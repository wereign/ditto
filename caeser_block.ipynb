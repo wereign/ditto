{
 "cells": [
  {
   "cell_type": "markdown",
   "metadata": {},
   "source": [
    "# Get Plaintext Dataset"
   ]
  },
  {
   "cell_type": "code",
   "execution_count": 6,
   "metadata": {},
   "outputs": [],
   "source": [
    "import nltk"
   ]
  },
  {
   "cell_type": "code",
   "execution_count": 7,
   "metadata": {},
   "outputs": [
    {
     "name": "stderr",
     "output_type": "stream",
     "text": [
      "[nltk_data] Downloading package genesis to\n",
      "[nltk_data]     C:\\Users\\rosha\\AppData\\Roaming\\nltk_data...\n",
      "[nltk_data]   Package genesis is already up-to-date!\n"
     ]
    },
    {
     "data": {
      "text/plain": [
       "True"
      ]
     },
     "execution_count": 7,
     "metadata": {},
     "output_type": "execute_result"
    }
   ],
   "source": [
    "nltk.download('genesis')"
   ]
  },
  {
   "cell_type": "code",
   "execution_count": 8,
   "metadata": {},
   "outputs": [],
   "source": [
    "from nltk.corpus import genesis"
   ]
  },
  {
   "cell_type": "code",
   "execution_count": 9,
   "metadata": {},
   "outputs": [
    {
     "name": "stdout",
     "output_type": "stream",
     "text": [
      "260396\n",
      "['In', 'the', 'beginning', 'God', 'created', 'the', 'heaven', 'and', 'the', 'earth']\n"
     ]
    }
   ],
   "source": [
    "genesis_words = genesis.words()\n",
    "filtered_words = [word for word in genesis_words if word.isalpha()]\n",
    "\n",
    "print(len(filtered_words))\n",
    "print(filtered_words[:10])"
   ]
  },
  {
   "cell_type": "code",
   "execution_count": 10,
   "metadata": {},
   "outputs": [],
   "source": [
    "def make_blocks(word_list):\n",
    "    word_str = \"\".join(word_list)\n",
    "    blocked_arr = []\n",
    "    \n",
    "    for i in range(0, len(word_str), 5):\n",
    "        block = word_str[i:i+5].lower()\n",
    "\n",
    "        if len(block) == 5:\n",
    "            blocked_arr.append(block)\n",
    "        else:\n",
    "            diff = 5 - len(block)\n",
    "            padded_block = block + \"x\" * diff\n",
    "            blocked_arr.append(padded_block)\n",
    "\n",
    "    return blocked_arr"
   ]
  },
  {
   "cell_type": "code",
   "execution_count": 11,
   "metadata": {},
   "outputs": [
    {
     "name": "stdout",
     "output_type": "stream",
     "text": [
      "['inthe', 'begin', 'ningg', 'odcre', 'atedt', 'hehea', 'venan', 'dthee', 'artha', 'ndthe']\n"
     ]
    }
   ],
   "source": [
    "pt_blocks = make_blocks(filtered_words)\n",
    "\n",
    "print(pt_blocks[:10])"
   ]
  },
  {
   "cell_type": "markdown",
   "metadata": {},
   "source": [
    "# Create Plaintext-Ciphertext dataset"
   ]
  },
  {
   "cell_type": "code",
   "execution_count": 12,
   "metadata": {},
   "outputs": [],
   "source": [
    "import random\n",
    "import numpy as np"
   ]
  },
  {
   "cell_type": "code",
   "execution_count": 13,
   "metadata": {},
   "outputs": [],
   "source": [
    "def caesar_encrypt(text, key):\n",
    "    result = \"\"\n",
    "\n",
    "    # traverse text\n",
    "    for i in range(len(text)):\n",
    "        char = text[i]\n",
    "\n",
    "        result += chr((ord(char) + key - 97) % 26 + 97)\n",
    "\n",
    "    return result"
   ]
  },
  {
   "cell_type": "code",
   "execution_count": 14,
   "metadata": {},
   "outputs": [
    {
     "name": "stdout",
     "output_type": "stream",
     "text": [
      "jpdslyypyxpclyotwyhslcljl\n"
     ]
    }
   ],
   "source": [
    "cipher = caesar_encrypt(\"Eesha ne mera dil Charaya\", key=11)\n",
    "print(cipher)"
   ]
  },
  {
   "cell_type": "code",
   "execution_count": 15,
   "metadata": {},
   "outputs": [],
   "source": [
    "#This function now returns [[pt, ct, key], [pt, ct, key]]\n",
    "#instead of [[pt, pt, pt], [ct, ct, ct], key] which is big yikes when training\n",
    "\n",
    "#The function now also generates a random key for each word\n",
    "\n",
    "def pt_ct_dataset(pt_list):\n",
    "    final_list = []\n",
    "\n",
    "    for pt in pt_list:\n",
    "        key = random.randint(1, 25)\n",
    "        ct = caesar_encrypt(pt, key)\n",
    "        final_list.append([pt, ct, key])\n",
    "\n",
    "    return final_list"
   ]
  },
  {
   "cell_type": "code",
   "execution_count": 16,
   "metadata": {},
   "outputs": [],
   "source": [
    "def let2num(letter):\n",
    "    return ord(letter)\n",
    "\n",
    "def encode(pt_ct_key_list):\n",
    "    encoded_list = []\n",
    "\n",
    "    for pairs in pt_ct_key_list:\n",
    "        encoded_pt_list = []\n",
    "        encoded_ct_list = []\n",
    "        \n",
    "        for char in pairs[0]:\n",
    "            encoded_pt_list.append(ord(char))\n",
    "\n",
    "        for char in pairs[1]:\n",
    "            encoded_ct_list.append(ord(char))\n",
    "\n",
    "        encoded_list.append([encoded_pt_list, encoded_ct_list, pairs[2]])\n",
    "    \n",
    "    return encoded_list"
   ]
  },
  {
   "cell_type": "code",
   "execution_count": 17,
   "metadata": {},
   "outputs": [
    {
     "name": "stdout",
     "output_type": "stream",
     "text": [
      "[['inthe', 'nsymj', 5], ['begin', 'nqsuz', 12], ['ningg', 'upunn', 7], ['odcre', 'pedsf', 1], ['atedt', 'ngrqg', 13]]\n"
     ]
    }
   ],
   "source": [
    "dataset = pt_ct_dataset(pt_blocks)\n",
    "\n",
    "print(dataset[:5])"
   ]
  },
  {
   "cell_type": "code",
   "execution_count": 18,
   "metadata": {},
   "outputs": [
    {
     "name": "stdout",
     "output_type": "stream",
     "text": [
      "[[[105, 110, 116, 104, 101], [110, 115, 121, 109, 106], 5], [[98, 101, 103, 105, 110], [110, 113, 115, 117, 122], 12]]\n"
     ]
    }
   ],
   "source": [
    "encoded_dataset = encode(dataset)\n",
    "\n",
    "print(encoded_dataset[:2])"
   ]
  },
  {
   "cell_type": "markdown",
   "metadata": {},
   "source": [
    "## Re-formatting the pt and ct arrays"
   ]
  },
  {
   "cell_type": "code",
   "execution_count": 19,
   "metadata": {},
   "outputs": [
    {
     "name": "stdout",
     "output_type": "stream",
     "text": [
      "[[105, 110, 116, 104, 101, 5], [98, 101, 103, 105, 110, 12]]\n",
      "[[110, 115, 121, 109, 106], [110, 113, 115, 117, 122]]\n"
     ]
    }
   ],
   "source": [
    "pt = []\n",
    "ct = []\n",
    "\n",
    "for item in encoded_dataset:\n",
    "    pt.append(item[0] + [item[2]])\n",
    "    ct.append(item[1])\n",
    "\n",
    "print(pt[:2])\n",
    "print(ct[:2])\n"
   ]
  },
  {
   "cell_type": "code",
   "execution_count": 20,
   "metadata": {},
   "outputs": [
    {
     "name": "stdout",
     "output_type": "stream",
     "text": [
      "(220730, 6)\n",
      "[105 110 116 104 101   5]\n",
      "(220730, 5)\n",
      "[110 115 121 109 106]\n"
     ]
    }
   ],
   "source": [
    "pt = np.array(pt)\n",
    "print(pt.shape)\n",
    "print(pt[0])\n",
    "\n",
    "ct = np.array(ct)\n",
    "print(ct.shape)\n",
    "print(ct[0])"
   ]
  },
  {
   "cell_type": "markdown",
   "metadata": {},
   "source": [
    "# Model"
   ]
  },
  {
   "cell_type": "code",
   "execution_count": 21,
   "metadata": {},
   "outputs": [],
   "source": [
    "import tensorflow as tf\n",
    "import keras\n",
    "from keras.models import Sequential\n",
    "from keras.layers import Dense"
   ]
  },
  {
   "cell_type": "code",
   "execution_count": 23,
   "metadata": {},
   "outputs": [],
   "source": [
    "model = Sequential()\n",
    "model.add(Dense(10, activation=\"relu\", input_dim=6))\n",
    "model.add(Dense(100, activation=\"relu\"))\n",
    "model.add(Dense(5, activation=\"softmax\"))"
   ]
  },
  {
   "cell_type": "code",
   "execution_count": 26,
   "metadata": {},
   "outputs": [],
   "source": [
    "model.compile(optimizer=\"adam\", loss=\"mean_squared_error\", metrics = [\"accuracy\"])"
   ]
  },
  {
   "cell_type": "code",
   "execution_count": 27,
   "metadata": {},
   "outputs": [
    {
     "name": "stdout",
     "output_type": "stream",
     "text": [
      "Epoch 1/100\n",
      "WARNING:tensorflow:From c:\\Users\\rosha\\Documents\\Ditto\\ditto\\ditto_venv\\lib\\site-packages\\keras\\src\\utils\\tf_utils.py:492: The name tf.ragged.RaggedTensorValue is deprecated. Please use tf.compat.v1.ragged.RaggedTensorValue instead.\n",
      "\n",
      "WARNING:tensorflow:From c:\\Users\\rosha\\Documents\\Ditto\\ditto\\ditto_venv\\lib\\site-packages\\keras\\src\\engine\\base_layer_utils.py:384: The name tf.executing_eagerly_outside_functions is deprecated. Please use tf.compat.v1.executing_eagerly_outside_functions instead.\n",
      "\n",
      "100/100 - 1s - loss: 12053.9961 - accuracy: 0.2150 - 912ms/epoch - 9ms/step\n",
      "Epoch 2/100\n",
      "100/100 - 0s - loss: 12053.9883 - accuracy: 0.2150 - 85ms/epoch - 853us/step\n",
      "Epoch 3/100\n",
      "100/100 - 0s - loss: 12053.9902 - accuracy: 0.2150 - 89ms/epoch - 895us/step\n",
      "Epoch 4/100\n",
      "100/100 - 0s - loss: 12053.9902 - accuracy: 0.2150 - 90ms/epoch - 901us/step\n",
      "Epoch 5/100\n",
      "100/100 - 0s - loss: 12053.9873 - accuracy: 0.2150 - 86ms/epoch - 860us/step\n",
      "Epoch 6/100\n",
      "100/100 - 0s - loss: 12053.9873 - accuracy: 0.2150 - 90ms/epoch - 902us/step\n",
      "Epoch 7/100\n",
      "100/100 - 0s - loss: 12053.9893 - accuracy: 0.2150 - 87ms/epoch - 869us/step\n",
      "Epoch 8/100\n",
      "100/100 - 0s - loss: 12053.9863 - accuracy: 0.2150 - 88ms/epoch - 882us/step\n",
      "Epoch 9/100\n",
      "100/100 - 0s - loss: 12053.9893 - accuracy: 0.2150 - 86ms/epoch - 858us/step\n",
      "Epoch 10/100\n",
      "100/100 - 0s - loss: 12053.9902 - accuracy: 0.2150 - 85ms/epoch - 848us/step\n",
      "Epoch 11/100\n",
      "100/100 - 0s - loss: 12053.9873 - accuracy: 0.2150 - 88ms/epoch - 877us/step\n",
      "Epoch 12/100\n",
      "100/100 - 0s - loss: 12053.9902 - accuracy: 0.2150 - 87ms/epoch - 866us/step\n",
      "Epoch 13/100\n",
      "100/100 - 0s - loss: 12053.9863 - accuracy: 0.2150 - 111ms/epoch - 1ms/step\n",
      "Epoch 14/100\n",
      "100/100 - 0s - loss: 12053.9873 - accuracy: 0.2150 - 103ms/epoch - 1ms/step\n",
      "Epoch 15/100\n",
      "100/100 - 0s - loss: 12053.9863 - accuracy: 0.2150 - 103ms/epoch - 1ms/step\n",
      "Epoch 16/100\n",
      "100/100 - 0s - loss: 12053.9893 - accuracy: 0.2150 - 98ms/epoch - 979us/step\n",
      "Epoch 17/100\n",
      "100/100 - 0s - loss: 12053.9893 - accuracy: 0.2150 - 98ms/epoch - 984us/step\n",
      "Epoch 18/100\n",
      "100/100 - 0s - loss: 12053.9902 - accuracy: 0.2150 - 99ms/epoch - 986us/step\n",
      "Epoch 19/100\n",
      "100/100 - 0s - loss: 12053.9883 - accuracy: 0.2150 - 96ms/epoch - 957us/step\n",
      "Epoch 20/100\n",
      "100/100 - 0s - loss: 12053.9863 - accuracy: 0.2150 - 83ms/epoch - 827us/step\n",
      "Epoch 21/100\n",
      "100/100 - 0s - loss: 12053.9893 - accuracy: 0.2150 - 83ms/epoch - 834us/step\n",
      "Epoch 22/100\n",
      "100/100 - 0s - loss: 12053.9873 - accuracy: 0.2150 - 95ms/epoch - 950us/step\n",
      "Epoch 23/100\n",
      "100/100 - 0s - loss: 12053.9834 - accuracy: 0.2150 - 90ms/epoch - 897us/step\n",
      "Epoch 24/100\n",
      "100/100 - 0s - loss: 12053.9932 - accuracy: 0.2150 - 81ms/epoch - 808us/step\n",
      "Epoch 25/100\n",
      "100/100 - 0s - loss: 12053.9902 - accuracy: 0.2150 - 80ms/epoch - 803us/step\n",
      "Epoch 26/100\n",
      "100/100 - 0s - loss: 12053.9883 - accuracy: 0.2150 - 80ms/epoch - 801us/step\n",
      "Epoch 27/100\n",
      "100/100 - 0s - loss: 12053.9883 - accuracy: 0.2150 - 87ms/epoch - 874us/step\n",
      "Epoch 28/100\n",
      "100/100 - 0s - loss: 12053.9873 - accuracy: 0.2150 - 94ms/epoch - 943us/step\n",
      "Epoch 29/100\n",
      "100/100 - 0s - loss: 12053.9883 - accuracy: 0.2150 - 88ms/epoch - 883us/step\n",
      "Epoch 30/100\n",
      "100/100 - 0s - loss: 12053.9893 - accuracy: 0.2150 - 88ms/epoch - 879us/step\n",
      "Epoch 31/100\n",
      "100/100 - 0s - loss: 12053.9893 - accuracy: 0.2150 - 92ms/epoch - 916us/step\n",
      "Epoch 32/100\n",
      "100/100 - 0s - loss: 12053.9873 - accuracy: 0.2150 - 91ms/epoch - 911us/step\n",
      "Epoch 33/100\n",
      "100/100 - 0s - loss: 12053.9893 - accuracy: 0.2150 - 86ms/epoch - 855us/step\n",
      "Epoch 34/100\n",
      "100/100 - 0s - loss: 12053.9854 - accuracy: 0.2150 - 93ms/epoch - 931us/step\n",
      "Epoch 35/100\n",
      "100/100 - 0s - loss: 12053.9902 - accuracy: 0.2150 - 89ms/epoch - 892us/step\n",
      "Epoch 36/100\n",
      "100/100 - 0s - loss: 12053.9863 - accuracy: 0.2150 - 91ms/epoch - 911us/step\n",
      "Epoch 37/100\n",
      "100/100 - 0s - loss: 12053.9893 - accuracy: 0.2150 - 88ms/epoch - 877us/step\n",
      "Epoch 38/100\n",
      "100/100 - 0s - loss: 12053.9883 - accuracy: 0.2150 - 87ms/epoch - 869us/step\n",
      "Epoch 39/100\n",
      "100/100 - 0s - loss: 12053.9922 - accuracy: 0.2150 - 84ms/epoch - 841us/step\n",
      "Epoch 40/100\n",
      "100/100 - 0s - loss: 12053.9883 - accuracy: 0.2150 - 81ms/epoch - 813us/step\n",
      "Epoch 41/100\n",
      "100/100 - 0s - loss: 12053.9883 - accuracy: 0.2150 - 86ms/epoch - 857us/step\n",
      "Epoch 42/100\n",
      "100/100 - 0s - loss: 12053.9893 - accuracy: 0.2150 - 79ms/epoch - 793us/step\n",
      "Epoch 43/100\n",
      "100/100 - 0s - loss: 12053.9854 - accuracy: 0.2150 - 82ms/epoch - 816us/step\n",
      "Epoch 44/100\n",
      "100/100 - 0s - loss: 12053.9883 - accuracy: 0.2150 - 79ms/epoch - 786us/step\n",
      "Epoch 45/100\n",
      "100/100 - 0s - loss: 12053.9873 - accuracy: 0.2150 - 80ms/epoch - 799us/step\n",
      "Epoch 46/100\n",
      "100/100 - 0s - loss: 12053.9893 - accuracy: 0.2150 - 81ms/epoch - 810us/step\n",
      "Epoch 47/100\n",
      "100/100 - 0s - loss: 12053.9883 - accuracy: 0.2150 - 80ms/epoch - 804us/step\n",
      "Epoch 48/100\n",
      "100/100 - 0s - loss: 12053.9893 - accuracy: 0.2150 - 81ms/epoch - 806us/step\n",
      "Epoch 49/100\n",
      "100/100 - 0s - loss: 12053.9854 - accuracy: 0.2150 - 79ms/epoch - 791us/step\n",
      "Epoch 50/100\n",
      "100/100 - 0s - loss: 12053.9883 - accuracy: 0.2150 - 79ms/epoch - 788us/step\n",
      "Epoch 51/100\n",
      "100/100 - 0s - loss: 12053.9883 - accuracy: 0.2150 - 79ms/epoch - 791us/step\n",
      "Epoch 52/100\n",
      "100/100 - 0s - loss: 12053.9854 - accuracy: 0.2150 - 81ms/epoch - 809us/step\n",
      "Epoch 53/100\n",
      "100/100 - 0s - loss: 12053.9873 - accuracy: 0.2150 - 80ms/epoch - 798us/step\n",
      "Epoch 54/100\n",
      "100/100 - 0s - loss: 12053.9873 - accuracy: 0.2150 - 81ms/epoch - 812us/step\n",
      "Epoch 55/100\n",
      "100/100 - 0s - loss: 12053.9893 - accuracy: 0.2150 - 80ms/epoch - 805us/step\n",
      "Epoch 56/100\n",
      "100/100 - 0s - loss: 12053.9902 - accuracy: 0.2150 - 78ms/epoch - 784us/step\n",
      "Epoch 57/100\n",
      "100/100 - 0s - loss: 12053.9873 - accuracy: 0.2150 - 80ms/epoch - 802us/step\n",
      "Epoch 58/100\n",
      "100/100 - 0s - loss: 12053.9844 - accuracy: 0.2150 - 81ms/epoch - 806us/step\n",
      "Epoch 59/100\n",
      "100/100 - 0s - loss: 12053.9902 - accuracy: 0.2150 - 80ms/epoch - 798us/step\n",
      "Epoch 60/100\n",
      "100/100 - 0s - loss: 12053.9902 - accuracy: 0.2150 - 78ms/epoch - 783us/step\n",
      "Epoch 61/100\n",
      "100/100 - 0s - loss: 12053.9863 - accuracy: 0.2150 - 89ms/epoch - 892us/step\n",
      "Epoch 62/100\n",
      "100/100 - 0s - loss: 12053.9863 - accuracy: 0.2150 - 79ms/epoch - 792us/step\n",
      "Epoch 63/100\n",
      "100/100 - 0s - loss: 12053.9883 - accuracy: 0.2150 - 85ms/epoch - 846us/step\n",
      "Epoch 64/100\n",
      "100/100 - 0s - loss: 12053.9873 - accuracy: 0.2150 - 76ms/epoch - 755us/step\n",
      "Epoch 65/100\n",
      "100/100 - 0s - loss: 12053.9873 - accuracy: 0.2150 - 79ms/epoch - 794us/step\n",
      "Epoch 66/100\n",
      "100/100 - 0s - loss: 12053.9883 - accuracy: 0.2150 - 79ms/epoch - 792us/step\n",
      "Epoch 67/100\n",
      "100/100 - 0s - loss: 12053.9863 - accuracy: 0.2150 - 76ms/epoch - 763us/step\n",
      "Epoch 68/100\n",
      "100/100 - 0s - loss: 12053.9863 - accuracy: 0.2150 - 79ms/epoch - 785us/step\n",
      "Epoch 69/100\n",
      "100/100 - 0s - loss: 12053.9873 - accuracy: 0.2150 - 76ms/epoch - 758us/step\n",
      "Epoch 70/100\n",
      "100/100 - 0s - loss: 12053.9902 - accuracy: 0.2150 - 75ms/epoch - 749us/step\n",
      "Epoch 71/100\n",
      "100/100 - 0s - loss: 12053.9912 - accuracy: 0.2150 - 83ms/epoch - 831us/step\n",
      "Epoch 72/100\n",
      "100/100 - 0s - loss: 12053.9863 - accuracy: 0.2150 - 78ms/epoch - 779us/step\n",
      "Epoch 73/100\n",
      "100/100 - 0s - loss: 12053.9873 - accuracy: 0.2150 - 79ms/epoch - 793us/step\n",
      "Epoch 74/100\n",
      "100/100 - 0s - loss: 12053.9883 - accuracy: 0.2150 - 82ms/epoch - 815us/step\n",
      "Epoch 75/100\n",
      "100/100 - 0s - loss: 12053.9854 - accuracy: 0.2150 - 82ms/epoch - 825us/step\n",
      "Epoch 76/100\n",
      "100/100 - 0s - loss: 12053.9902 - accuracy: 0.2150 - 80ms/epoch - 798us/step\n",
      "Epoch 77/100\n",
      "100/100 - 0s - loss: 12053.9863 - accuracy: 0.2150 - 79ms/epoch - 794us/step\n",
      "Epoch 78/100\n",
      "100/100 - 0s - loss: 12053.9893 - accuracy: 0.2150 - 84ms/epoch - 845us/step\n",
      "Epoch 79/100\n",
      "100/100 - 0s - loss: 12053.9873 - accuracy: 0.2150 - 78ms/epoch - 783us/step\n",
      "Epoch 80/100\n",
      "100/100 - 0s - loss: 12053.9902 - accuracy: 0.2150 - 78ms/epoch - 783us/step\n",
      "Epoch 81/100\n",
      "100/100 - 0s - loss: 12053.9893 - accuracy: 0.2150 - 80ms/epoch - 801us/step\n",
      "Epoch 82/100\n",
      "100/100 - 0s - loss: 12053.9863 - accuracy: 0.2150 - 79ms/epoch - 786us/step\n",
      "Epoch 83/100\n",
      "100/100 - 0s - loss: 12053.9893 - accuracy: 0.2150 - 76ms/epoch - 764us/step\n",
      "Epoch 84/100\n",
      "100/100 - 0s - loss: 12053.9883 - accuracy: 0.2150 - 80ms/epoch - 799us/step\n",
      "Epoch 85/100\n",
      "100/100 - 0s - loss: 12053.9863 - accuracy: 0.2150 - 78ms/epoch - 780us/step\n",
      "Epoch 86/100\n",
      "100/100 - 0s - loss: 12053.9873 - accuracy: 0.2150 - 79ms/epoch - 792us/step\n",
      "Epoch 87/100\n",
      "100/100 - 0s - loss: 12053.9902 - accuracy: 0.2150 - 81ms/epoch - 809us/step\n",
      "Epoch 88/100\n",
      "100/100 - 0s - loss: 12053.9902 - accuracy: 0.2150 - 79ms/epoch - 793us/step\n",
      "Epoch 89/100\n",
      "100/100 - 0s - loss: 12053.9912 - accuracy: 0.2150 - 81ms/epoch - 811us/step\n",
      "Epoch 90/100\n",
      "100/100 - 0s - loss: 12053.9893 - accuracy: 0.2150 - 79ms/epoch - 793us/step\n",
      "Epoch 91/100\n",
      "100/100 - 0s - loss: 12053.9893 - accuracy: 0.2150 - 80ms/epoch - 801us/step\n",
      "Epoch 92/100\n",
      "100/100 - 0s - loss: 12053.9893 - accuracy: 0.2150 - 79ms/epoch - 785us/step\n",
      "Epoch 93/100\n",
      "100/100 - 0s - loss: 12053.9883 - accuracy: 0.2150 - 87ms/epoch - 872us/step\n",
      "Epoch 94/100\n",
      "100/100 - 0s - loss: 12053.9902 - accuracy: 0.2150 - 79ms/epoch - 794us/step\n",
      "Epoch 95/100\n",
      "100/100 - 0s - loss: 12053.9922 - accuracy: 0.2150 - 79ms/epoch - 794us/step\n",
      "Epoch 96/100\n",
      "100/100 - 0s - loss: 12053.9883 - accuracy: 0.2150 - 81ms/epoch - 811us/step\n",
      "Epoch 97/100\n",
      "100/100 - 0s - loss: 12053.9893 - accuracy: 0.2150 - 79ms/epoch - 794us/step\n",
      "Epoch 98/100\n",
      "100/100 - 0s - loss: 12053.9873 - accuracy: 0.2150 - 80ms/epoch - 796us/step\n",
      "Epoch 99/100\n",
      "100/100 - 0s - loss: 12053.9873 - accuracy: 0.2150 - 80ms/epoch - 799us/step\n",
      "Epoch 100/100\n",
      "100/100 - 0s - loss: 12053.9902 - accuracy: 0.2150 - 81ms/epoch - 811us/step\n"
     ]
    },
    {
     "data": {
      "text/plain": [
       "<keras.src.callbacks.History at 0x2acc83daaa0>"
      ]
     },
     "execution_count": 27,
     "metadata": {},
     "output_type": "execute_result"
    }
   ],
   "source": [
    "model.fit(pt[:1000], ct[:1000], epochs=100, batch_size= 10,verbose=2)"
   ]
  }
 ],
 "metadata": {
  "kernelspec": {
   "display_name": "ditto_venv",
   "language": "python",
   "name": "python3"
  },
  "language_info": {
   "codemirror_mode": {
    "name": "ipython",
    "version": 3
   },
   "file_extension": ".py",
   "mimetype": "text/x-python",
   "name": "python",
   "nbconvert_exporter": "python",
   "pygments_lexer": "ipython3",
   "version": "3.10.11"
  }
 },
 "nbformat": 4,
 "nbformat_minor": 2
}
