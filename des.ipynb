{
 "cells": [
  {
   "cell_type": "code",
   "execution_count": 53,
   "metadata": {},
   "outputs": [
    {
     "name": "stdout",
     "output_type": "stream",
     "text": [
      "Input String (in bits): 001100010011001000110011001101000011010100110110001101110011100000111001011000010110001001100011011001000110010101100110\n",
      "Ciphertext (in bits): 01011001000100100000010100100111101110010110010010000111000100100110101000101001001010011101110011100100010000101100101011011101\n"
     ]
    }
   ],
   "source": [
    "from Crypto.Cipher import AES\n",
    "from Crypto.Random import get_random_bytes\n",
    "from Crypto.Util.Padding import pad, unpad\n",
    "from binascii import hexlify, unhexlify\n",
    "\n",
    "\n",
    "\n",
    "def hex_to_bits(hex_string):\n",
    "    # Convert hex to binary\n",
    "    binary_representation = bin(int(hex_string, 16))[2:]\n",
    "    \n",
    "    # Ensure leading zeros are included\n",
    "    length = len(hex_string) * 4  # Each hex digit represents 4 bits\n",
    "    return binary_representation.zfill(length)\n",
    "\n",
    "def string_to_bits(input_string):\n",
    "    return ''.join(format(ord(char), '08b') for char in input_string)\n",
    "\n",
    "\n",
    "def bits_to_string(bits):\n",
    "    return ''.join(chr(int(bits[i:i+8], 2)) for i in range(0, len(bits), 8))\n",
    "\n",
    "\n",
    "def encrypt_string(input_string, key):\n",
    "    # Convert string to bytes\n",
    "    input_bytes = input_string.encode('utf-8')\n",
    "\n",
    "    # Pad the data\n",
    "    padded_data = pad(input_bytes, AES.block_size)\n",
    "\n",
    "    # Generate a random IV\n",
    "    iv = get_random_bytes(AES.block_size)\n",
    "\n",
    "    # Create AES cipher object\n",
    "    cipher = AES.new(key, AES.MODE_CBC, iv)\n",
    "\n",
    "    # Encrypt the data\n",
    "    ciphertext = cipher.encrypt(padded_data)\n",
    "\n",
    "    # Convert the ciphertext to bit representation\n",
    "    ciphertext_bits = hex_to_bits(hexlify(ciphertext).decode('utf-8'))\n",
    "\n",
    "    return iv, ciphertext_bits\n",
    "\n",
    "# Example usage:\n",
    "key = get_random_bytes(AES.block_size)  # Generate a random key\n",
    "input_string = \"123456789abcdef\"\n",
    "\n",
    "# Step 1: Convert string to bits\n",
    "input_bits = string_to_bits(input_string)\n",
    "print(\"Input String (in bits):\", input_bits)\n",
    "\n",
    "# Step 2: Encrypt the string\n",
    "iv, ciphertext_bits = encrypt_string(input_string, key)\n",
    "print(\"Ciphertext (in bits):\", ciphertext_bits)\n",
    "\n",
    "# Step 3: Decrypt the ciphertext\n",
    "# decrypted_string = decrypt_bits(ciphertext_bits, key, iv)\n",
    "# print(\"Decrypted String:\", decrypted_string)"
   ]
  },
  {
   "cell_type": "code",
   "execution_count": 54,
   "metadata": {},
   "outputs": [
    {
     "data": {
      "text/plain": [
       "(120, 128)"
      ]
     },
     "execution_count": 54,
     "metadata": {},
     "output_type": "execute_result"
    }
   ],
   "source": [
    "len(input_bits),len(ciphertext_bits)"
   ]
  },
  {
   "cell_type": "code",
   "execution_count": 55,
   "metadata": {},
   "outputs": [],
   "source": [
    "import nltk\n",
    "from nltk.corpus import genesis"
   ]
  },
  {
   "cell_type": "code",
   "execution_count": 56,
   "metadata": {},
   "outputs": [],
   "source": [
    "genesis_words = genesis.words()"
   ]
  },
  {
   "cell_type": "code",
   "execution_count": 57,
   "metadata": {},
   "outputs": [],
   "source": [
    "def filter_letter(let):\n",
    "\n",
    "    if ord('a') <= ord(let) <= ord('z'):\n",
    "        return True\n",
    "\n",
    "    else:\n",
    "        return False"
   ]
  },
  {
   "cell_type": "code",
   "execution_count": 58,
   "metadata": {},
   "outputs": [],
   "source": [
    "def make_blocks(word_list, block_size):\n",
    "    word_str = \"\".join(word_list)\n",
    "    new_str = \"\"\n",
    "    blocked_arr = []\n",
    "\n",
    "    for i in range(0, len(word_str)):\n",
    "\n",
    "        let = word_str[i].lower()\n",
    "        if filter_letter(let):\n",
    "            new_str += let\n",
    "        else:\n",
    "            pass\n",
    "\n",
    "    del word_str\n",
    "\n",
    "    for i in range(0, len(new_str), block_size):\n",
    "        block = new_str[i:i+block_size]\n",
    "\n",
    "        if len(block) == block_size:\n",
    "            blocked_arr.append(block)\n",
    "        else:\n",
    "            diff = block_size - len(block)\n",
    "            padded_block = block + \"x\" * diff\n",
    "            blocked_arr.append(padded_block)\n",
    "\n",
    "    return blocked_arr"
   ]
  },
  {
   "cell_type": "code",
   "execution_count": 59,
   "metadata": {},
   "outputs": [],
   "source": [
    "pt_blocks = make_blocks(genesis_words, 8)"
   ]
  },
  {
   "cell_type": "code",
   "execution_count": 60,
   "metadata": {},
   "outputs": [],
   "source": [
    "first_block = pt_blocks[0]"
   ]
  },
  {
   "cell_type": "code",
   "execution_count": 61,
   "metadata": {},
   "outputs": [
    {
     "data": {
      "text/plain": [
       "64"
      ]
     },
     "execution_count": 61,
     "metadata": {},
     "output_type": "execute_result"
    }
   ],
   "source": [
    "len(string_to_bits(first_block))"
   ]
  },
  {
   "cell_type": "code",
   "execution_count": 62,
   "metadata": {},
   "outputs": [
    {
     "data": {
      "text/plain": [
       "128"
      ]
     },
     "execution_count": 62,
     "metadata": {},
     "output_type": "execute_result"
    }
   ],
   "source": [
    "_,ct_bits = encrypt_string(first_block,key)\n",
    "len(ct_bits)"
   ]
  },
  {
   "cell_type": "code",
   "execution_count": 63,
   "metadata": {},
   "outputs": [
    {
     "data": {
      "text/plain": [
       "128"
      ]
     },
     "execution_count": 63,
     "metadata": {},
     "output_type": "execute_result"
    }
   ],
   "source": [
    "len(hex_to_bits(hexlify(key)))"
   ]
  },
  {
   "cell_type": "code",
   "execution_count": 64,
   "metadata": {},
   "outputs": [],
   "source": [
    "pt_bits = []\n",
    "for pt in pt_blocks:\n",
    "    pt_bits.append(string_to_bits(pt))\n"
   ]
  },
  {
   "cell_type": "code",
   "execution_count": 65,
   "metadata": {},
   "outputs": [],
   "source": [
    "ct_bits = []\n",
    "\n",
    "for pt in pt_blocks:\n",
    "    # ct is in bits\n",
    "    _,ct = encrypt_string(pt,key)\n",
    "    ct_bits.append(ct)\n"
   ]
  },
  {
   "cell_type": "markdown",
   "metadata": {},
   "source": [
    "# Converting to a dataset"
   ]
  },
  {
   "cell_type": "code",
   "execution_count": 66,
   "metadata": {},
   "outputs": [],
   "source": [
    "import numpy as np"
   ]
  },
  {
   "cell_type": "code",
   "execution_count": 67,
   "metadata": {},
   "outputs": [],
   "source": [
    "for bits in pt_bits:\n",
    "    if bits.isnumeric():\n",
    "        pass\n",
    "    else:\n",
    "        print(\"Don't Panic\")\n",
    "for bits in ct_bits:\n",
    "    if bits.isnumeric():\n",
    "        pass\n",
    "    else:\n",
    "        print(\"Don't Panic\")"
   ]
  },
  {
   "cell_type": "code",
   "execution_count": 74,
   "metadata": {},
   "outputs": [],
   "source": [
    "ptb_array = []\n",
    "ctb_array = []\n",
    "\n",
    "# 3 is ending token, 2 is starting token\n",
    "for ptb in pt_bits:\n",
    "    x = [int(i) for i in list(ptb)] + [3]\n",
    "    ptb_array.append(x)\n",
    "\n",
    "for ctb in ct_bits:\n",
    "    x = [2] + [int(i) for i in list(ctb)] + [3]\n",
    "    ctb_array.append(x)\n",
    "\n",
    "\n",
    "    "
   ]
  },
  {
   "cell_type": "code",
   "execution_count": 75,
   "metadata": {},
   "outputs": [],
   "source": [
    "ptb_array = np.array(ptb_array)\n",
    "ctb_array = np.array(ctb_array)\n",
    "# for a fixed key"
   ]
  },
  {
   "cell_type": "code",
   "execution_count": 76,
   "metadata": {},
   "outputs": [
    {
     "data": {
      "text/plain": [
       "((134339, 65), (134339, 130))"
      ]
     },
     "execution_count": 76,
     "metadata": {},
     "output_type": "execute_result"
    }
   ],
   "source": [
    "ptb_array.shape,ctb_array.shape"
   ]
  },
  {
   "cell_type": "markdown",
   "metadata": {},
   "source": [
    "# Making the model"
   ]
  },
  {
   "cell_type": "code",
   "execution_count": 71,
   "metadata": {},
   "outputs": [
    {
     "name": "stdout",
     "output_type": "stream",
     "text": [
      "WARNING:tensorflow:From c:\\Users\\viren\\Desktop\\Indira\\ditto\\ditto_venv\\lib\\site-packages\\keras\\src\\losses.py:2976: The name tf.losses.sparse_softmax_cross_entropy is deprecated. Please use tf.compat.v1.losses.sparse_softmax_cross_entropy instead.\n",
      "\n"
     ]
    }
   ],
   "source": [
    "import numpy as np\n",
    "import keras\n",
    "from keras.models import Sequential\n",
    "from keras.layers import Dense, InputLayer"
   ]
  },
  {
   "cell_type": "code",
   "execution_count": 78,
   "metadata": {},
   "outputs": [
    {
     "name": "stdout",
     "output_type": "stream",
     "text": [
      "3\n"
     ]
    }
   ],
   "source": [
    "unique_chars = set()\n",
    "\n",
    "for word in ptb_array:\n",
    "\n",
    "    for let in word:\n",
    "\n",
    "        if not let in unique_chars:\n",
    "            unique_chars.add(let)\n",
    "\n",
    "\n",
    "print(len(unique_chars))"
   ]
  },
  {
   "cell_type": "code",
   "execution_count": 72,
   "metadata": {},
   "outputs": [],
   "source": [
    "batch_size = 64\n",
    "num_samples = 134339\n",
    "latent_dim = 256\n",
    "epochs = 15"
   ]
  },
  {
   "cell_type": "code",
   "execution_count": null,
   "metadata": {},
   "outputs": [],
   "source": [
    "num_encoder_tokens = 2\n",
    "num_decoder_tokens = 3"
   ]
  }
 ],
 "metadata": {
  "kernelspec": {
   "display_name": "ditto_venv",
   "language": "python",
   "name": "python3"
  },
  "language_info": {
   "codemirror_mode": {
    "name": "ipython",
    "version": 3
   },
   "file_extension": ".py",
   "mimetype": "text/x-python",
   "name": "python",
   "nbconvert_exporter": "python",
   "pygments_lexer": "ipython3",
   "version": "3.10.11"
  }
 },
 "nbformat": 4,
 "nbformat_minor": 2
}
