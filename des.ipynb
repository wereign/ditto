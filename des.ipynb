{
 "cells": [
  {
   "cell_type": "code",
   "execution_count": 4,
   "metadata": {},
   "outputs": [
    {
     "data": {
      "text/plain": [
       "25"
      ]
     },
     "execution_count": 4,
     "metadata": {},
     "output_type": "execute_result"
    }
   ],
   "source": [
    "ord('z') - ord('a') "
   ]
  },
  {
   "cell_type": "code",
   "execution_count": 5,
   "metadata": {},
   "outputs": [
    {
     "data": {
      "text/plain": [
       "'0b11001'"
      ]
     },
     "execution_count": 5,
     "metadata": {},
     "output_type": "execute_result"
    }
   ],
   "source": [
    "bin(25)"
   ]
  },
  {
   "cell_type": "code",
   "execution_count": 9,
   "metadata": {},
   "outputs": [],
   "source": [
    "from Crypto.Cipher import AES"
   ]
  },
  {
   "cell_type": "code",
   "execution_count": 10,
   "metadata": {},
   "outputs": [],
   "source": [
    "key = b'Sixteen byte key'"
   ]
  },
  {
   "cell_type": "code",
   "execution_count": 13,
   "metadata": {},
   "outputs": [],
   "source": [
    "cipher = AES.new(key, AES.MODE_EAX)"
   ]
  },
  {
   "cell_type": "code",
   "execution_count": 14,
   "metadata": {},
   "outputs": [],
   "source": [
    "nonce = cipher.nonce\n",
    "ciphertext, tag = cipher.encrypt_and_digest(b\"Sixteen byte key\")"
   ]
  },
  {
   "cell_type": "code",
   "execution_count": 15,
   "metadata": {},
   "outputs": [
    {
     "data": {
      "text/plain": [
       "b')\\xc5b\\xd4\\xdc\\x98\\x0b\\xb9*o\"\\xf0\\xcd\\x7ft/'"
      ]
     },
     "execution_count": 15,
     "metadata": {},
     "output_type": "execute_result"
    }
   ],
   "source": [
    "ciphertext"
   ]
  },
  {
   "cell_type": "code",
   "execution_count": 16,
   "metadata": {},
   "outputs": [
    {
     "data": {
      "text/plain": [
       "16"
      ]
     },
     "execution_count": 16,
     "metadata": {},
     "output_type": "execute_result"
    }
   ],
   "source": [
    "len(ciphertext)"
   ]
  },
  {
   "cell_type": "code",
   "execution_count": 28,
   "metadata": {},
   "outputs": [
    {
     "name": "stdout",
     "output_type": "stream",
     "text": [
      "Input String (in bits): 001100010011001000110011001101000011010100110110001101110011100000111001011000010110001001100011011001000110010101100110\n",
      "Ciphertext (in bits): 11011111010001000101010110100101100110001100101010111000111000101100110101000001110101000010111111110101111100011110001110100001\n"
     ]
    }
   ],
   "source": [
    "from Crypto.Cipher import AES\n",
    "from Crypto.Random import get_random_bytes\n",
    "from Crypto.Util.Padding import pad, unpad\n",
    "from binascii import hexlify, unhexlify\n",
    "\n",
    "\n",
    "\n",
    "def hex_to_bits(hex_string):\n",
    "    # Convert hex to binary\n",
    "    binary_representation = bin(int(hex_string, 16))[2:]\n",
    "    \n",
    "    # Ensure leading zeros are included\n",
    "    length = len(hex_string) * 4  # Each hex digit represents 4 bits\n",
    "    return binary_representation.zfill(length)\n",
    "\n",
    "def string_to_bits(input_string):\n",
    "    return ''.join(format(ord(char), '08b') for char in input_string)\n",
    "\n",
    "\n",
    "def bits_to_string(bits):\n",
    "    return ''.join(chr(int(bits[i:i+8], 2)) for i in range(0, len(bits), 8))\n",
    "\n",
    "\n",
    "def encrypt_string(input_string, key):\n",
    "    # Convert string to bytes\n",
    "    input_bytes = input_string.encode('utf-8')\n",
    "\n",
    "    # Pad the data\n",
    "    padded_data = pad(input_bytes, AES.block_size)\n",
    "\n",
    "    # Generate a random IV\n",
    "    iv = get_random_bytes(AES.block_size)\n",
    "\n",
    "    # Create AES cipher object\n",
    "    cipher = AES.new(key, AES.MODE_CBC, iv)\n",
    "\n",
    "    # Encrypt the data\n",
    "    ciphertext = cipher.encrypt(padded_data)\n",
    "\n",
    "    # Convert the ciphertext to bit representation\n",
    "    ciphertext_bits = hex_to_bits(hexlify(ciphertext).decode('utf-8'))\n",
    "\n",
    "    return iv, ciphertext_bits\n",
    "\n",
    "\n",
    "# def decrypt_bits(ciphertext_bits, key, iv):\n",
    "#     # Convert the ciphertext back to bytes\n",
    "#     ciphertext = unhexlify(ciphertext_bits.encode('utf-8'))\n",
    "\n",
    "#     # Create AES cipher object\n",
    "#     cipher = AES.new(key, AES.MODE_CBC, iv)\n",
    "\n",
    "#     # Decrypt the data\n",
    "#     decrypted_bytes = cipher.decrypt(ciphertext)\n",
    "\n",
    "#     # Unpad the decrypted data\n",
    "#     unpadded_data = unpad(decrypted_bytes, AES.block_size)\n",
    "\n",
    "#     # Convert bytes to string\n",
    "#     decrypted_string = unpadded_data.decode('utf-8')\n",
    "\n",
    "#     return decrypted_string\n",
    "\n",
    "\n",
    "# Example usage:\n",
    "key = get_random_bytes(AES.block_size)  # Generate a random key\n",
    "input_string = \"123456789abcdef\"\n",
    "\n",
    "# Step 1: Convert string to bits\n",
    "input_bits = string_to_bits(input_string)\n",
    "print(\"Input String (in bits):\", input_bits)\n",
    "\n",
    "# Step 2: Encrypt the string\n",
    "iv, ciphertext_bits = encrypt_string(input_string, key)\n",
    "print(\"Ciphertext (in bits):\", ciphertext_bits)\n",
    "\n",
    "# Step 3: Decrypt the ciphertext\n",
    "# decrypted_string = decrypt_bits(ciphertext_bits, key, iv)\n",
    "# print(\"Decrypted String:\", decrypted_string)"
   ]
  },
  {
   "cell_type": "code",
   "execution_count": 29,
   "metadata": {},
   "outputs": [
    {
     "data": {
      "text/plain": [
       "(120, 128)"
      ]
     },
     "execution_count": 29,
     "metadata": {},
     "output_type": "execute_result"
    }
   ],
   "source": [
    "len(input_bits),len(ciphertext_bits)"
   ]
  },
  {
   "cell_type": "code",
   "execution_count": 27,
   "metadata": {},
   "outputs": [
    {
     "data": {
      "text/plain": [
       "16.0"
      ]
     },
     "execution_count": 27,
     "metadata": {},
     "output_type": "execute_result"
    }
   ],
   "source": [
    "128/8"
   ]
  },
  {
   "cell_type": "code",
   "execution_count": null,
   "metadata": {},
   "outputs": [],
   "source": []
  }
 ],
 "metadata": {
  "kernelspec": {
   "display_name": "ditto_venv",
   "language": "python",
   "name": "python3"
  },
  "language_info": {
   "codemirror_mode": {
    "name": "ipython",
    "version": 3
   },
   "file_extension": ".py",
   "mimetype": "text/x-python",
   "name": "python",
   "nbconvert_exporter": "python",
   "pygments_lexer": "ipython3",
   "version": "3.10.11"
  }
 },
 "nbformat": 4,
 "nbformat_minor": 2
}
