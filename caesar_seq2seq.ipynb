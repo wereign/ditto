{
 "cells": [
  {
   "cell_type": "code",
   "execution_count": 45,
   "metadata": {},
   "outputs": [],
   "source": [
    "import nltk"
   ]
  },
  {
   "cell_type": "code",
   "execution_count": 46,
   "metadata": {},
   "outputs": [],
   "source": [
    "from nltk.corpus import genesis"
   ]
  },
  {
   "cell_type": "code",
   "execution_count": 47,
   "metadata": {},
   "outputs": [],
   "source": [
    "genesis_words = genesis.words()"
   ]
  },
  {
   "cell_type": "code",
   "execution_count": 48,
   "metadata": {},
   "outputs": [],
   "source": [
    "def filter_letter(let):\n",
    "\n",
    "    if ord('a') <= ord(let) <= ord('z'):\n",
    "        return True\n",
    "    \n",
    "    else:\n",
    "        return False"
   ]
  },
  {
   "cell_type": "code",
   "execution_count": 49,
   "metadata": {},
   "outputs": [],
   "source": [
    "def make_blocks(word_list,block_size):\n",
    "    word_str = \"\".join(word_list)\n",
    "    new_str = \"\"\n",
    "    blocked_arr = []\n",
    "\n",
    "\n",
    "\n",
    "    for i in range(0,len(word_str)):\n",
    "        \n",
    "        let = word_str[i].lower()\n",
    "        if filter_letter(let):\n",
    "            new_str += let\n",
    "        else:\n",
    "            pass\n",
    "    \n",
    "    del word_str\n",
    "\n",
    "    for i in range(0, len(new_str), block_size):\n",
    "        block = new_str[i:i+block_size]\n",
    "        \n",
    "        if len(block) == block_size:\n",
    "            blocked_arr.append(block)\n",
    "        else:\n",
    "            diff = block_size - len(block)\n",
    "            padded_block = block + \"x\" * diff\n",
    "            blocked_arr.append(padded_block)\n",
    "\n",
    "    return blocked_arr"
   ]
  },
  {
   "cell_type": "code",
   "execution_count": 50,
   "metadata": {},
   "outputs": [
    {
     "name": "stdout",
     "output_type": "stream",
     "text": [
      "['inthebeg', 'inninggo', 'dcreated', 'theheave', 'nandthee', 'arthandt', 'heearthw', 'aswithou', 'tformand', 'voidandd']\n"
     ]
    }
   ],
   "source": [
    "pt_blocks = make_blocks(genesis_words,8)\n",
    "\n",
    "print(pt_blocks[:10])"
   ]
  },
  {
   "cell_type": "code",
   "execution_count": 51,
   "metadata": {},
   "outputs": [],
   "source": [
    "def let2num(let):\n",
    "    return ord(let.lower()) - ord('a')\n",
    "\n",
    "def num2let(num):\n",
    "    return chr(num + ord('a'))\n",
    "\n",
    "\n",
    "def caesar_encrypt(let,key):\n",
    "\n",
    "    n = let2num(let)\n",
    "    c_n = (n + key) % 26\n",
    "    ct = num2let(c_n)\n",
    "    \n",
    "    return ct\n"
   ]
  },
  {
   "cell_type": "code",
   "execution_count": 52,
   "metadata": {},
   "outputs": [
    {
     "data": {
      "text/plain": [
       "'c'"
      ]
     },
     "execution_count": 52,
     "metadata": {},
     "output_type": "execute_result"
    }
   ],
   "source": [
    "caesar_encrypt('a',2)"
   ]
  },
  {
   "cell_type": "code",
   "execution_count": 53,
   "metadata": {},
   "outputs": [],
   "source": [
    "ct_blocks = []\n",
    "# key_blocks = []\n",
    "\n",
    "# for key in range(0,25):\n",
    "\n",
    "FIXED_KEY = 5    \n",
    "for idx in range(len(pt_blocks)):\n",
    "    \n",
    "    ct_t = \"\"   \n",
    "    \n",
    "\n",
    "    # encrypt the block\n",
    "    for let in pt_blocks[idx]:\n",
    "        ct_t += caesar_encrypt(let,FIXED_KEY)\n",
    "\n",
    "    ct_blocks.append(ct_t)"
   ]
  },
  {
   "cell_type": "code",
   "execution_count": 54,
   "metadata": {},
   "outputs": [
    {
     "name": "stdout",
     "output_type": "stream",
     "text": [
      "134339\n"
     ]
    }
   ],
   "source": [
    "print(len(ct_blocks))"
   ]
  },
  {
   "cell_type": "code",
   "execution_count": 55,
   "metadata": {},
   "outputs": [
    {
     "name": "stdout",
     "output_type": "stream",
     "text": [
      "134339\n"
     ]
    }
   ],
   "source": [
    "print(len(pt_blocks))"
   ]
  },
  {
   "cell_type": "code",
   "execution_count": 56,
   "metadata": {},
   "outputs": [
    {
     "data": {
      "text/plain": [
       "['inthebeg', 'inninggo', 'dcreated', 'theheave', 'nandthee']"
      ]
     },
     "execution_count": 56,
     "metadata": {},
     "output_type": "execute_result"
    }
   ],
   "source": [
    "pt_blocks[:5]"
   ]
  },
  {
   "cell_type": "code",
   "execution_count": 57,
   "metadata": {},
   "outputs": [
    {
     "data": {
      "text/plain": [
       "['nsymjgjl', 'nssnsllt', 'ihwjfyji', 'ymjmjfaj', 'sfsiymjj']"
      ]
     },
     "execution_count": 57,
     "metadata": {},
     "output_type": "execute_result"
    }
   ],
   "source": [
    "ct_blocks[:5]"
   ]
  },
  {
   "cell_type": "code",
   "execution_count": 58,
   "metadata": {},
   "outputs": [],
   "source": [
    "import numpy as np\n",
    "import keras\n",
    "from keras.models import Sequential\n",
    "from keras.layers import Dense,InputLayer"
   ]
  },
  {
   "cell_type": "code",
   "execution_count": 59,
   "metadata": {},
   "outputs": [],
   "source": [
    "batch_size = 64\n",
    "num_samples = 137957\n",
    "latent_dim = 256\n",
    "epochs = 15"
   ]
  },
  {
   "cell_type": "code",
   "execution_count": 60,
   "metadata": {},
   "outputs": [],
   "source": [
    "input_texts = pt_blocks\n",
    "target_texts = ct_blocks"
   ]
  },
  {
   "cell_type": "code",
   "execution_count": 61,
   "metadata": {},
   "outputs": [],
   "source": [
    "# Start token \\t\n",
    "# end token \\n\n",
    "\n",
    "input_characters = set()\n",
    "target_characters = set()\n",
    "\n",
    "for i in range(len(input_texts)):\n",
    "\n",
    "    input_texts[i] = input_texts[i] + '\\n'\n",
    "    \n",
    "    for char in input_texts[i]:\n",
    "        if char not in input_characters:\n",
    "            input_characters.add(char)\n",
    "\n",
    "\n",
    "\n",
    "for j in range(len(target_texts)):\n",
    "    target_texts[j] = '\\t' + target_texts[j] + '\\n'\n",
    "    \n",
    "    for char in target_texts[j]:\n",
    "        if char not in target_characters:\n",
    "            target_characters.add(char)"
   ]
  },
  {
   "cell_type": "code",
   "execution_count": 62,
   "metadata": {},
   "outputs": [
    {
     "name": "stdout",
     "output_type": "stream",
     "text": [
      "27\n"
     ]
    }
   ],
   "source": [
    "unique_chars = set()\n",
    "\n",
    "for word in pt_blocks:\n",
    "\n",
    "    for let in word:\n",
    "\n",
    "        if not let in unique_chars:\n",
    "            unique_chars.add(let)\n",
    "\n",
    "\n",
    "print(len(unique_chars))"
   ]
  },
  {
   "cell_type": "code",
   "execution_count": 63,
   "metadata": {},
   "outputs": [
    {
     "name": "stdout",
     "output_type": "stream",
     "text": [
      "Number of samples: 134339\n",
      "Number of unique input tokens: 28\n",
      "Number of unique output tokens: 29\n",
      "Max sequence length for inputs: 9\n",
      "Max sequence length for outputs: 10\n"
     ]
    }
   ],
   "source": [
    "input_characters.add(' ')\n",
    "target_characters.add(' ')\n",
    "input_characters = sorted(list(input_characters))\n",
    "target_characters = sorted(list(target_characters))\n",
    "\n",
    "num_encoder_tokens = len(input_characters)\n",
    "num_decoder_tokens = len(target_characters)\n",
    "\n",
    "max_encoder_seq_length = max([len(txt) for txt in input_texts])\n",
    "max_decoder_seq_length = max([len(txt) for txt in target_texts])\n",
    "\n",
    "\n",
    "print(\"Number of samples:\", len(input_texts))\n",
    "print(\"Number of unique input tokens:\", num_encoder_tokens)\n",
    "print(\"Number of unique output tokens:\", num_decoder_tokens)\n",
    "print(\"Max sequence length for inputs:\", max_encoder_seq_length)\n",
    "print(\"Max sequence length for outputs:\", max_decoder_seq_length)"
   ]
  },
  {
   "cell_type": "code",
   "execution_count": 64,
   "metadata": {},
   "outputs": [],
   "source": [
    "input_token_index = dict([(char, i)\n",
    "                         for i, char in enumerate(input_characters)])\n",
    "target_token_index = dict([(char, i)\n",
    "                          for i, char in enumerate(target_characters)])\n",
    "\n",
    "encoder_input_data = np.zeros(\n",
    "    (len(input_texts), max_encoder_seq_length, num_encoder_tokens),\n",
    "    dtype=\"float32\",\n",
    ")\n",
    "decoder_input_data = np.zeros(\n",
    "    (len(input_texts), max_decoder_seq_length, num_decoder_tokens),\n",
    "    dtype=\"float32\",\n",
    ")\n",
    "decoder_target_data = np.zeros(\n",
    "    (len(input_texts), max_decoder_seq_length, num_decoder_tokens),\n",
    "    dtype=\"float32\",\n",
    ")"
   ]
  },
  {
   "cell_type": "code",
   "execution_count": 65,
   "metadata": {},
   "outputs": [
    {
     "data": {
      "text/plain": [
       "(134339, 9, 28)"
      ]
     },
     "execution_count": 65,
     "metadata": {},
     "output_type": "execute_result"
    }
   ],
   "source": [
    "encoder_input_data.shape"
   ]
  },
  {
   "cell_type": "code",
   "execution_count": 66,
   "metadata": {},
   "outputs": [],
   "source": [
    "for i, (input_text, target_text) in enumerate(zip(input_texts, target_texts)):\n",
    "    for t, char in enumerate(input_text):\n",
    "        encoder_input_data[i, t, input_token_index[char]] = 1.0\n",
    "    encoder_input_data[i, t + 1:, input_token_index[\" \"]] = 1.0\n",
    "    for t, char in enumerate(target_text):\n",
    "        # decoder_target_data is ahead of decoder_input_data by one timestep\n",
    "        decoder_input_data[i, t, target_token_index[char]] = 1.0\n",
    "        if t > 0:\n",
    "            # decoder_target_data will be ahead by one timestep\n",
    "            # and will not include the start character.\n",
    "            decoder_target_data[i, t - 1, target_token_index[char]] = 1.0\n",
    "    decoder_input_data[i, t + 1:, target_token_index[\" \"]] = 1.0\n",
    "    decoder_target_data[i, t:, target_token_index[\" \"]] = 1.0"
   ]
  },
  {
   "cell_type": "code",
   "execution_count": 67,
   "metadata": {},
   "outputs": [
    {
     "name": "stdout",
     "output_type": "stream",
     "text": [
      "(134339, 9, 28)\n",
      "(134339, 10, 29)\n"
     ]
    }
   ],
   "source": [
    "print(encoder_input_data.shape)\n",
    "print(decoder_target_data.shape)"
   ]
  },
  {
   "cell_type": "code",
   "execution_count": 68,
   "metadata": {},
   "outputs": [],
   "source": [
    "# Define an input sequence and process it.\n",
    "encoder_inputs = keras.Input(shape=(None, num_encoder_tokens))\n",
    "encoder = keras.layers.LSTM(latent_dim, return_state=True)\n",
    "encoder_outputs, state_h, state_c = encoder(encoder_inputs)\n",
    "\n",
    "# We discard `encoder_outputs` and only keep the states.\n",
    "encoder_states = [state_h, state_c]\n",
    "\n",
    "# Set up the decoder, using `encoder_states` as initial state.\n",
    "decoder_inputs = keras.Input(shape=(None, num_decoder_tokens))\n",
    "\n",
    "# We set up our decoder to return full output sequences,\n",
    "# and to return internal states as well. We don't use the\n",
    "# return states in the training model, but we will use them in inference.\n",
    "decoder_lstm = keras.layers.LSTM(\n",
    "    latent_dim, return_sequences=True, return_state=True)\n",
    "decoder_outputs, _, _ = decoder_lstm(\n",
    "    decoder_inputs, initial_state=encoder_states)\n",
    "decoder_dense = keras.layers.Dense(num_decoder_tokens, activation=\"softmax\")\n",
    "decoder_outputs = decoder_dense(decoder_outputs)\n",
    "\n",
    "# Define the model that will turn\n",
    "# `encoder_input_data` & `decoder_input_data` into `decoder_target_data`\n",
    "model = keras.Model([encoder_inputs, decoder_inputs], decoder_outputs)"
   ]
  },
  {
   "cell_type": "code",
   "execution_count": 69,
   "metadata": {},
   "outputs": [
    {
     "name": "stdout",
     "output_type": "stream",
     "text": [
      "(134339, 9, 28)\n",
      "28\n"
     ]
    }
   ],
   "source": [
    "print(encoder_input_data.shape)\n",
    "print(num_encoder_tokens)"
   ]
  },
  {
   "cell_type": "code",
   "execution_count": 70,
   "metadata": {},
   "outputs": [
    {
     "name": "stdout",
     "output_type": "stream",
     "text": [
      "Epoch 1/15\n",
      "1680/1680 [==============================] - 82s 46ms/step - loss: 0.9574 - accuracy: 0.7122 - val_loss: 0.3355 - val_accuracy: 0.8929\n",
      "Epoch 2/15\n",
      "1680/1680 [==============================] - 73s 43ms/step - loss: 0.0999 - accuracy: 0.9728 - val_loss: 0.2031 - val_accuracy: 0.9437\n",
      "Epoch 3/15\n",
      "1680/1680 [==============================] - 61s 36ms/step - loss: 0.0376 - accuracy: 0.9906 - val_loss: 0.0388 - val_accuracy: 0.9888\n",
      "Epoch 4/15\n",
      "1680/1680 [==============================] - 62s 37ms/step - loss: 0.0197 - accuracy: 0.9952 - val_loss: 0.1265 - val_accuracy: 0.9731\n",
      "Epoch 5/15\n",
      "1680/1680 [==============================] - 61s 36ms/step - loss: 0.0127 - accuracy: 0.9970 - val_loss: 0.0365 - val_accuracy: 0.9896\n",
      "Epoch 6/15\n",
      "1680/1680 [==============================] - 60s 35ms/step - loss: 0.0089 - accuracy: 0.9980 - val_loss: 0.0141 - val_accuracy: 0.9961\n",
      "Epoch 7/15\n",
      "1680/1680 [==============================] - 60s 36ms/step - loss: 0.0066 - accuracy: 0.9986 - val_loss: 0.0621 - val_accuracy: 0.9869\n",
      "Epoch 8/15\n",
      "1680/1680 [==============================] - 61s 36ms/step - loss: 0.0052 - accuracy: 0.9988 - val_loss: 0.0065 - val_accuracy: 0.9984\n",
      "Epoch 9/15\n",
      "1680/1680 [==============================] - 77s 46ms/step - loss: 0.0043 - accuracy: 0.9991 - val_loss: 0.0043 - val_accuracy: 0.9990\n",
      "Epoch 10/15\n",
      "1680/1680 [==============================] - 84s 50ms/step - loss: 0.0031 - accuracy: 0.9994 - val_loss: 0.0033 - val_accuracy: 0.9992\n",
      "Epoch 11/15\n",
      "1680/1680 [==============================] - 75s 45ms/step - loss: 0.0026 - accuracy: 0.9994 - val_loss: 0.0041 - val_accuracy: 0.9990\n",
      "Epoch 12/15\n",
      "1680/1680 [==============================] - 87s 52ms/step - loss: 0.0020 - accuracy: 0.9996 - val_loss: 0.0089 - val_accuracy: 0.9978\n",
      "Epoch 13/15\n",
      "1680/1680 [==============================] - 86s 51ms/step - loss: 0.0017 - accuracy: 0.9997 - val_loss: 0.0027 - val_accuracy: 0.9994\n",
      "Epoch 14/15\n",
      "1680/1680 [==============================] - 67s 40ms/step - loss: 0.0018 - accuracy: 0.9997 - val_loss: 0.0013 - val_accuracy: 0.9998\n",
      "Epoch 15/15\n",
      "1680/1680 [==============================] - 87s 52ms/step - loss: 0.0010 - accuracy: 0.9998 - val_loss: 0.0021 - val_accuracy: 0.9995\n"
     ]
    }
   ],
   "source": [
    "model.compile(\n",
    "    optimizer=\"rmsprop\", loss=\"categorical_crossentropy\", metrics=[\"accuracy\"]\n",
    ")\n",
    "model.fit(\n",
    "    [encoder_input_data, decoder_input_data],\n",
    "    decoder_target_data,\n",
    "    batch_size=batch_size,\n",
    "    epochs=epochs,\n",
    "    validation_split=0.2,\n",
    ")\n",
    "# Save model\n",
    "model.save(\"s2s_vig_model.keras\")"
   ]
  }
 ],
 "metadata": {
  "kernelspec": {
   "display_name": "ditto_venv",
   "language": "python",
   "name": "python3"
  },
  "language_info": {
   "codemirror_mode": {
    "name": "ipython",
    "version": 3
   },
   "file_extension": ".py",
   "mimetype": "text/x-python",
   "name": "python",
   "nbconvert_exporter": "python",
   "pygments_lexer": "ipython3",
   "version": "3.10.11"
  }
 },
 "nbformat": 4,
 "nbformat_minor": 2
}
