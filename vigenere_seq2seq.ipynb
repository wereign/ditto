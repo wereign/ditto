{
 "cells": [
  {
   "cell_type": "code",
   "execution_count": 1,
   "metadata": {},
   "outputs": [],
   "source": [
    "import nltk"
   ]
  },
  {
   "cell_type": "code",
   "execution_count": 2,
   "metadata": {},
   "outputs": [],
   "source": [
    "from nltk.corpus import genesis"
   ]
  },
  {
   "cell_type": "code",
   "execution_count": 3,
   "metadata": {},
   "outputs": [],
   "source": [
    "genesis_words = genesis.words()"
   ]
  },
  {
   "cell_type": "code",
   "execution_count": 4,
   "metadata": {},
   "outputs": [],
   "source": [
    "def filter_letter(let):\n",
    "\n",
    "    if ord('a') <= ord(let) <= ord('z'):\n",
    "        return True\n",
    "    \n",
    "    else:\n",
    "        return False"
   ]
  },
  {
   "cell_type": "code",
   "execution_count": 5,
   "metadata": {},
   "outputs": [],
   "source": [
    "def make_blocks(word_list,block_size):\n",
    "    word_str = \"\".join(word_list)\n",
    "    new_str = \"\"\n",
    "    blocked_arr = []\n",
    "\n",
    "\n",
    "\n",
    "    for i in range(0,len(word_str)):\n",
    "        \n",
    "        let = word_str[i].lower()\n",
    "        if filter_letter(let):\n",
    "            new_str += let\n",
    "        else:\n",
    "            pass\n",
    "    \n",
    "    del word_str\n",
    "\n",
    "    for i in range(0, len(new_str), block_size):\n",
    "        block = new_str[i:i+block_size]\n",
    "        \n",
    "        if len(block) == block_size:\n",
    "            blocked_arr.append(block)\n",
    "        else:\n",
    "            diff = block_size - len(block)\n",
    "            padded_block = block + \"x\" * diff\n",
    "            blocked_arr.append(padded_block)\n",
    "\n",
    "    return blocked_arr"
   ]
  },
  {
   "cell_type": "code",
   "execution_count": 6,
   "metadata": {},
   "outputs": [
    {
     "name": "stdout",
     "output_type": "stream",
     "text": [
      "['inthebeg', 'inninggo', 'dcreated', 'theheave', 'nandthee', 'arthandt', 'heearthw', 'aswithou', 'tformand', 'voidandd']\n"
     ]
    }
   ],
   "source": [
    "pt_blocks = make_blocks(genesis_words,8)\n",
    "print(pt_blocks[:10])"
   ]
  },
  {
   "cell_type": "code",
   "execution_count": 7,
   "metadata": {},
   "outputs": [],
   "source": [
    "def let2num(let):\n",
    "    return ord(let.lower()) - ord('a')\n",
    "\n",
    "def num2let(num):\n",
    "    return chr(num + ord('a'))\n",
    "\n",
    "\n",
    "def vigenere(string, key):\n",
    "    cipher_text = []\n",
    "    for i in range(len(string)):\n",
    "        x = (ord(string[i].lower()) + ord(key[i].lower())) % 26\n",
    "        x += ord('a')\n",
    "        cipher_text.append(chr(x))\n",
    "    return (\"\" . join(cipher_text))\n"
   ]
  },
  {
   "cell_type": "code",
   "execution_count": 8,
   "metadata": {},
   "outputs": [],
   "source": [
    "ct_blocks = []\n",
    "key = 'dontpanc'\n",
    "\n",
    "\n",
    "FIXED_KEY = 5    \n",
    "for idx in range(len(pt_blocks)):\n",
    "    \n",
    "    ct_t = vigenere(pt_blocks[idx],key)   \n",
    "    \n",
    "    ct_blocks.append(ct_t)"
   ]
  },
  {
   "cell_type": "code",
   "execution_count": 9,
   "metadata": {},
   "outputs": [
    {
     "name": "stdout",
     "output_type": "stream",
     "text": [
      "134339\n"
     ]
    }
   ],
   "source": [
    "print(len(ct_blocks))"
   ]
  },
  {
   "cell_type": "code",
   "execution_count": 10,
   "metadata": {},
   "outputs": [
    {
     "name": "stdout",
     "output_type": "stream",
     "text": [
      "134339\n"
     ]
    }
   ],
   "source": [
    "print(len(pt_blocks))"
   ]
  },
  {
   "cell_type": "code",
   "execution_count": 11,
   "metadata": {},
   "outputs": [
    {
     "data": {
      "text/plain": [
       "['inthebeg', 'inninggo', 'dcreated', 'theheave', 'nandthee']"
      ]
     },
     "execution_count": 11,
     "metadata": {},
     "output_type": "execute_result"
    }
   ],
   "source": [
    "pt_blocks[:5]"
   ]
  },
  {
   "cell_type": "code",
   "execution_count": 12,
   "metadata": {},
   "outputs": [
    {
     "data": {
      "text/plain": [
       "['xnsmfndu', 'xnmnosfc', 'scqjbfdr', 'ihdmfmus', 'camiutds']"
      ]
     },
     "execution_count": 12,
     "metadata": {},
     "output_type": "execute_result"
    }
   ],
   "source": [
    "ct_blocks[:5]"
   ]
  },
  {
   "cell_type": "code",
   "execution_count": 13,
   "metadata": {},
   "outputs": [
    {
     "name": "stdout",
     "output_type": "stream",
     "text": [
      "WARNING:tensorflow:From c:\\Users\\viren\\Desktop\\Indira\\ditto\\ditto_venv\\lib\\site-packages\\keras\\src\\losses.py:2976: The name tf.losses.sparse_softmax_cross_entropy is deprecated. Please use tf.compat.v1.losses.sparse_softmax_cross_entropy instead.\n",
      "\n"
     ]
    }
   ],
   "source": [
    "import numpy as np\n",
    "import keras\n",
    "from keras.models import Sequential\n",
    "from keras.layers import Dense,InputLayer"
   ]
  },
  {
   "cell_type": "code",
   "execution_count": 14,
   "metadata": {},
   "outputs": [],
   "source": [
    "batch_size = 64\n",
    "num_samples = 137957\n",
    "latent_dim = 256\n",
    "epochs = 15"
   ]
  },
  {
   "cell_type": "code",
   "execution_count": 15,
   "metadata": {},
   "outputs": [],
   "source": [
    "input_texts = pt_blocks\n",
    "target_texts = ct_blocks"
   ]
  },
  {
   "cell_type": "code",
   "execution_count": 16,
   "metadata": {},
   "outputs": [],
   "source": [
    "# Start token \\t\n",
    "# end token \\n\n",
    "\n",
    "input_characters = set()\n",
    "target_characters = set()\n",
    "\n",
    "for i in range(len(input_texts)):\n",
    "\n",
    "    input_texts[i] = input_texts[i] + '\\n'\n",
    "    \n",
    "    for char in input_texts[i]:\n",
    "        if char not in input_characters:\n",
    "            input_characters.add(char)\n",
    "\n",
    "\n",
    "\n",
    "for j in range(len(target_texts)):\n",
    "    target_texts[j] = '\\t' + target_texts[j] + '\\n'\n",
    "    \n",
    "    for char in target_texts[j]:\n",
    "        if char not in target_characters:\n",
    "            target_characters.add(char)"
   ]
  },
  {
   "cell_type": "code",
   "execution_count": 17,
   "metadata": {},
   "outputs": [
    {
     "name": "stdout",
     "output_type": "stream",
     "text": [
      "27\n"
     ]
    }
   ],
   "source": [
    "unique_chars = set()\n",
    "\n",
    "for word in pt_blocks:\n",
    "\n",
    "    for let in word:\n",
    "\n",
    "        if not let in unique_chars:\n",
    "            unique_chars.add(let)\n",
    "\n",
    "\n",
    "print(len(unique_chars))"
   ]
  },
  {
   "cell_type": "code",
   "execution_count": 18,
   "metadata": {},
   "outputs": [
    {
     "name": "stdout",
     "output_type": "stream",
     "text": [
      "Number of samples: 134339\n",
      "Number of unique input tokens: 28\n",
      "Number of unique output tokens: 29\n",
      "Max sequence length for inputs: 9\n",
      "Max sequence length for outputs: 10\n"
     ]
    }
   ],
   "source": [
    "input_characters.add(' ')\n",
    "target_characters.add(' ')\n",
    "input_characters = sorted(list(input_characters))\n",
    "target_characters = sorted(list(target_characters))\n",
    "\n",
    "num_encoder_tokens = len(input_characters)\n",
    "num_decoder_tokens = len(target_characters)\n",
    "\n",
    "max_encoder_seq_length = max([len(txt) for txt in input_texts])\n",
    "max_decoder_seq_length = max([len(txt) for txt in target_texts])\n",
    "\n",
    "\n",
    "print(\"Number of samples:\", len(input_texts))\n",
    "print(\"Number of unique input tokens:\", num_encoder_tokens)\n",
    "print(\"Number of unique output tokens:\", num_decoder_tokens)\n",
    "print(\"Max sequence length for inputs:\", max_encoder_seq_length)\n",
    "print(\"Max sequence length for outputs:\", max_decoder_seq_length)"
   ]
  },
  {
   "cell_type": "code",
   "execution_count": 19,
   "metadata": {},
   "outputs": [],
   "source": [
    "input_token_index = dict([(char, i)\n",
    "                         for i, char in enumerate(input_characters)])\n",
    "target_token_index = dict([(char, i)\n",
    "                          for i, char in enumerate(target_characters)])\n",
    "\n",
    "encoder_input_data = np.zeros(\n",
    "    (len(input_texts), max_encoder_seq_length, num_encoder_tokens),\n",
    "    dtype=\"float32\",\n",
    ")\n",
    "decoder_input_data = np.zeros(\n",
    "    (len(input_texts), max_decoder_seq_length, num_decoder_tokens),\n",
    "    dtype=\"float32\",\n",
    ")\n",
    "decoder_target_data = np.zeros(\n",
    "    (len(input_texts), max_decoder_seq_length, num_decoder_tokens),\n",
    "    dtype=\"float32\",\n",
    ")"
   ]
  },
  {
   "cell_type": "code",
   "execution_count": 20,
   "metadata": {},
   "outputs": [
    {
     "data": {
      "text/plain": [
       "(134339, 9, 28)"
      ]
     },
     "execution_count": 20,
     "metadata": {},
     "output_type": "execute_result"
    }
   ],
   "source": [
    "encoder_input_data.shape"
   ]
  },
  {
   "cell_type": "code",
   "execution_count": 21,
   "metadata": {},
   "outputs": [],
   "source": [
    "for i, (input_text, target_text) in enumerate(zip(input_texts, target_texts)):\n",
    "    for t, char in enumerate(input_text):\n",
    "        encoder_input_data[i, t, input_token_index[char]] = 1.0\n",
    "    encoder_input_data[i, t + 1:, input_token_index[\" \"]] = 1.0\n",
    "    for t, char in enumerate(target_text):\n",
    "        # decoder_target_data is ahead of decoder_input_data by one timestep\n",
    "        decoder_input_data[i, t, target_token_index[char]] = 1.0\n",
    "        if t > 0:\n",
    "            # decoder_target_data will be ahead by one timestep\n",
    "            # and will not include the start character.\n",
    "            decoder_target_data[i, t - 1, target_token_index[char]] = 1.0\n",
    "    decoder_input_data[i, t + 1:, target_token_index[\" \"]] = 1.0\n",
    "    decoder_target_data[i, t:, target_token_index[\" \"]] = 1.0"
   ]
  },
  {
   "cell_type": "code",
   "execution_count": 22,
   "metadata": {},
   "outputs": [
    {
     "name": "stdout",
     "output_type": "stream",
     "text": [
      "(134339, 9, 28)\n",
      "(134339, 10, 29)\n"
     ]
    }
   ],
   "source": [
    "print(encoder_input_data.shape)\n",
    "print(decoder_target_data.shape)"
   ]
  },
  {
   "cell_type": "code",
   "execution_count": 23,
   "metadata": {},
   "outputs": [
    {
     "name": "stdout",
     "output_type": "stream",
     "text": [
      "WARNING:tensorflow:From c:\\Users\\viren\\Desktop\\Indira\\ditto\\ditto_venv\\lib\\site-packages\\keras\\src\\backend.py:1398: The name tf.executing_eagerly_outside_functions is deprecated. Please use tf.compat.v1.executing_eagerly_outside_functions instead.\n",
      "\n"
     ]
    }
   ],
   "source": [
    "# Define an input sequence and process it.\n",
    "encoder_inputs = keras.Input(shape=(None, num_encoder_tokens))\n",
    "encoder = keras.layers.LSTM(latent_dim, return_state=True)\n",
    "encoder_outputs, state_h, state_c = encoder(encoder_inputs)\n",
    "\n",
    "# We discard `encoder_outputs` and only keep the states.\n",
    "encoder_states = [state_h, state_c]\n",
    "\n",
    "# Set up the decoder, using `encoder_states` as initial state.\n",
    "decoder_inputs = keras.Input(shape=(None, num_decoder_tokens))\n",
    "\n",
    "# We set up our decoder to return full output sequences,\n",
    "# and to return internal states as well. We don't use the\n",
    "# return states in the training model, but we will use them in inference.\n",
    "decoder_lstm = keras.layers.LSTM(\n",
    "    latent_dim, return_sequences=True, return_state=True)\n",
    "decoder_outputs, _, _ = decoder_lstm(\n",
    "    decoder_inputs, initial_state=encoder_states)\n",
    "decoder_dense = keras.layers.Dense(num_decoder_tokens, activation=\"softmax\")\n",
    "decoder_outputs = decoder_dense(decoder_outputs)\n",
    "\n",
    "# Define the model that will turn\n",
    "# `encoder_input_data` & `decoder_input_data` into `decoder_target_data`\n",
    "model = keras.Model([encoder_inputs, decoder_inputs], decoder_outputs)"
   ]
  },
  {
   "cell_type": "code",
   "execution_count": 24,
   "metadata": {},
   "outputs": [
    {
     "name": "stdout",
     "output_type": "stream",
     "text": [
      "(134339, 9, 28)\n",
      "28\n"
     ]
    }
   ],
   "source": [
    "print(encoder_input_data.shape)\n",
    "print(num_encoder_tokens)"
   ]
  },
  {
   "cell_type": "code",
   "execution_count": 25,
   "metadata": {},
   "outputs": [
    {
     "name": "stdout",
     "output_type": "stream",
     "text": [
      "WARNING:tensorflow:From c:\\Users\\viren\\Desktop\\Indira\\ditto\\ditto_venv\\lib\\site-packages\\keras\\src\\optimizers\\__init__.py:309: The name tf.train.Optimizer is deprecated. Please use tf.compat.v1.train.Optimizer instead.\n",
      "\n"
     ]
    },
    {
     "name": "stdout",
     "output_type": "stream",
     "text": [
      "Epoch 1/15\n",
      "WARNING:tensorflow:From c:\\Users\\viren\\Desktop\\Indira\\ditto\\ditto_venv\\lib\\site-packages\\keras\\src\\utils\\tf_utils.py:492: The name tf.ragged.RaggedTensorValue is deprecated. Please use tf.compat.v1.ragged.RaggedTensorValue instead.\n",
      "\n",
      "WARNING:tensorflow:From c:\\Users\\viren\\Desktop\\Indira\\ditto\\ditto_venv\\lib\\site-packages\\keras\\src\\engine\\base_layer_utils.py:384: The name tf.executing_eagerly_outside_functions is deprecated. Please use tf.compat.v1.executing_eagerly_outside_functions instead.\n",
      "\n",
      "1680/1680 [==============================] - 74s 42ms/step - loss: 1.9069 - accuracy: 0.4560 - val_loss: 1.2052 - val_accuracy: 0.6499\n",
      "Epoch 2/15\n",
      "1680/1680 [==============================] - 64s 38ms/step - loss: 0.5794 - accuracy: 0.8305 - val_loss: 0.3499 - val_accuracy: 0.8873\n",
      "Epoch 3/15\n",
      "1680/1680 [==============================] - 68s 40ms/step - loss: 0.1227 - accuracy: 0.9677 - val_loss: 0.1196 - val_accuracy: 0.9633\n",
      "Epoch 4/15\n",
      "1680/1680 [==============================] - 66s 39ms/step - loss: 0.0349 - accuracy: 0.9924 - val_loss: 0.0635 - val_accuracy: 0.9813\n",
      "Epoch 5/15\n",
      "1680/1680 [==============================] - 72s 43ms/step - loss: 0.0149 - accuracy: 0.9971 - val_loss: 0.0584 - val_accuracy: 0.9820\n",
      "Epoch 6/15\n",
      "1680/1680 [==============================] - 72s 43ms/step - loss: 0.0073 - accuracy: 0.9989 - val_loss: 0.0116 - val_accuracy: 0.9975\n",
      "Epoch 7/15\n",
      "1680/1680 [==============================] - 69s 41ms/step - loss: 0.0045 - accuracy: 0.9993 - val_loss: 0.0094 - val_accuracy: 0.9977\n",
      "Epoch 8/15\n",
      "1680/1680 [==============================] - 66s 39ms/step - loss: 0.0028 - accuracy: 0.9996 - val_loss: 0.0057 - val_accuracy: 0.9988\n",
      "Epoch 9/15\n",
      "1680/1680 [==============================] - 72s 43ms/step - loss: 0.0017 - accuracy: 0.9998 - val_loss: 0.0229 - val_accuracy: 0.9946\n",
      "Epoch 10/15\n",
      "1680/1680 [==============================] - 68s 41ms/step - loss: 8.2590e-04 - accuracy: 1.0000 - val_loss: 0.0031 - val_accuracy: 0.9994\n",
      "Epoch 11/15\n",
      "1680/1680 [==============================] - 70s 41ms/step - loss: 5.4320e-04 - accuracy: 1.0000 - val_loss: 0.0024 - val_accuracy: 0.9996\n",
      "Epoch 12/15\n",
      "1680/1680 [==============================] - 72s 43ms/step - loss: 3.2706e-04 - accuracy: 1.0000 - val_loss: 0.0019 - val_accuracy: 0.9997\n",
      "Epoch 13/15\n",
      "1680/1680 [==============================] - 71s 42ms/step - loss: 2.5533e-04 - accuracy: 1.0000 - val_loss: 0.0017 - val_accuracy: 0.9997\n",
      "Epoch 14/15\n",
      "1680/1680 [==============================] - 63s 38ms/step - loss: 2.2063e-04 - accuracy: 1.0000 - val_loss: 0.0017 - val_accuracy: 0.9997\n",
      "Epoch 15/15\n",
      "1680/1680 [==============================] - 57s 34ms/step - loss: 1.9612e-04 - accuracy: 1.0000 - val_loss: 0.0015 - val_accuracy: 0.9997\n"
     ]
    }
   ],
   "source": [
    "model.compile(\n",
    "    optimizer=\"rmsprop\", loss=\"categorical_crossentropy\", metrics=[\"accuracy\"]\n",
    ")\n",
    "history = model.fit(\n",
    "    [encoder_input_data, decoder_input_data],\n",
    "    decoder_target_data,\n",
    "    batch_size=batch_size,\n",
    "    epochs=epochs,\n",
    "    validation_split=0.2,\n",
    ")\n",
    "# Save model\n",
    "model.save(\"s2s_model.keras\")"
   ]
  },
  {
   "cell_type": "code",
   "execution_count": 26,
   "metadata": {},
   "outputs": [],
   "source": [
    "import seaborn as sns\n",
    "import matplotlib.pyplot as plt"
   ]
  },
  {
   "cell_type": "code",
   "execution_count": 29,
   "metadata": {},
   "outputs": [],
   "source": [
    "val_loss = history.history['val_loss']\n",
    "val_acc = history.history['val_accuracy']\n",
    "acc = history.history['accuracy']\n",
    "loss = history.history['loss']\n",
    "epochs = list(range(15))"
   ]
  },
  {
   "cell_type": "code",
   "execution_count": 30,
   "metadata": {},
   "outputs": [
    {
     "data": {
      "text/plain": [
       "Text(0.5, 1.0, 'Loss vs Epoch')"
      ]
     },
     "execution_count": 30,
     "metadata": {},
     "output_type": "execute_result"
    },
    {
     "data": {
      "image/png": "[encoded data removed]",
      "text/plain": [
       "<Figure size 432x288 with 1 Axes>"
      ]
     },
     "metadata": {
      "needs_background": "light"
     },
     "output_type": "display_data"
    }
   ],
   "source": [
    "sns.lineplot(x=epochs, y=val_loss, label='Validation')\n",
    "sns.lineplot(x=epochs, y=loss,label='Training')\n",
    "plt.legend()\n",
    "plt.title('Loss vs Epoch')"
   ]
  },
  {
   "cell_type": "code",
   "execution_count": null,
   "metadata": {},
   "outputs": [
    {
     "data": {
      "text/plain": [
       "Text(0.5, 1.0, 'Accuracy vs Epoch')"
      ]
     },
     "metadata": {},
     "output_type": "display_data"
    },
    {
     "data": {
      "image/png": "[encoded data removed]",
      "text/plain": [
       "<Figure size 432x288 with 1 Axes>"
      ]
     },
     "metadata": {},
     "output_type": "display_data"
    }
   ],
   "source": [
    "sns.lineplot(x=epochs, y=val_acc, label='Validation')\n",
    "sns.lineplot(x=epochs, y=acc, label='Training')\n",
    "plt.legend()\n",
    "plt.title('Accuracy vs Epoch')"
   ]
  }
 ],
 "metadata": {
  "kernelspec": {
   "display_name": "ditto_venv",
   "language": "python",
   "name": "python3"
  },
  "language_info": {
   "codemirror_mode": {
    "name": "ipython",
    "version": 3
   },
   "file_extension": ".py",
   "mimetype": "text/x-python",
   "name": "python",
   "nbconvert_exporter": "python",
   "pygments_lexer": "ipython3",
   "version": "3.10.11"
  }
 },
 "nbformat": 4,
 "nbformat_minor": 2
}
