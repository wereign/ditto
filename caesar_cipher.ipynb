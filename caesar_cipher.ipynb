{
 "cells": [
  {
   "cell_type": "code",
   "execution_count": 2,
   "metadata": {},
   "outputs": [
    {
     "name": "stdout",
     "output_type": "stream",
     "text": [
      "(250000, 1)\n",
      "(250000, 1)\n",
      "WARNING:tensorflow:From c:\\Users\\viren\\Desktop\\Indira\\ditto\\ditto_venv\\lib\\site-packages\\keras\\src\\backend.py:873: The name tf.get_default_graph is deprecated. Please use tf.compat.v1.get_default_graph instead.\n",
      "\n",
      "WARNING:tensorflow:From c:\\Users\\viren\\Desktop\\Indira\\ditto\\ditto_venv\\lib\\site-packages\\keras\\src\\optimizers\\__init__.py:309: The name tf.train.Optimizer is deprecated. Please use tf.compat.v1.train.Optimizer instead.\n",
      "\n",
      "Epoch 1/120\n",
      "WARNING:tensorflow:From c:\\Users\\viren\\Desktop\\Indira\\ditto\\ditto_venv\\lib\\site-packages\\keras\\src\\utils\\tf_utils.py:492: The name tf.ragged.RaggedTensorValue is deprecated. Please use tf.compat.v1.ragged.RaggedTensorValue instead.\n",
      "\n",
      "WARNING:tensorflow:From c:\\Users\\viren\\Desktop\\Indira\\ditto\\ditto_venv\\lib\\site-packages\\keras\\src\\engine\\base_layer_utils.py:384: The name tf.executing_eagerly_outside_functions is deprecated. Please use tf.compat.v1.executing_eagerly_outside_functions instead.\n",
      "\n",
      "2500/2500 [==============================] - 3s 1ms/step - loss: 3.0372 - accuracy: 0.0789 - val_loss: 2.7536 - val_accuracy: 0.1669\n",
      "Epoch 2/120\n",
      "2500/2500 [==============================] - 3s 1ms/step - loss: 2.3299 - accuracy: 0.2887 - val_loss: 1.9158 - val_accuracy: 0.4640\n",
      "Epoch 3/120\n",
      "2500/2500 [==============================] - 3s 1ms/step - loss: 1.6297 - accuracy: 0.5804 - val_loss: 1.4102 - val_accuracy: 0.6673\n",
      "Epoch 4/120\n",
      "2500/2500 [==============================] - 3s 1ms/step - loss: 1.2382 - accuracy: 0.7618 - val_loss: 1.0979 - val_accuracy: 0.8304\n",
      "Epoch 5/120\n",
      " 502/2500 [=====>........................] - ETA: 2s - loss: 1.0754 - accuracy: 0.8256"
     ]
    }
   ],
   "source": [
    "import tensorflow as tf\n",
    "import numpy as np\n",
    "\n",
    "\n",
    "\n",
    "# Data.\n",
    "max_val = 26\n",
    "mod = 26\n",
    "\n",
    "K = np.random.randint(0, 27, size=(250_000,)).reshape(-1, 1)\n",
    "I = np.random.randint(0, max_val, size=(250_000,)).reshape(-1, 1)\n",
    "print(I.shape)\n",
    "print(K.shape)\n",
    "X = np.hstack((I,K))\n",
    "Y = (K + I) % 26\n",
    "\n",
    "# Test Data.\n",
    "Kt = np.random.randint(0, 27, size=(10_000,)).reshape(-1, 1)\n",
    "It = np.random.randint(0, max_val, size=(10_000,)).reshape(-1, 1)\n",
    "Xt = np.hstack((It,Kt))\n",
    "Yt = (Kt + It) % 26\n",
    "\n",
    "# Model.\n",
    "model = tf.keras.models.Sequential([\n",
    "    tf.keras.layers.Dense(1000, 'relu', input_shape=(2,)),\n",
    "    tf.keras.layers.Dense(26, 'softmax'),\n",
    "])\n",
    "\n",
    "model.compile(optimizer='adam',\n",
    "              loss='sparse_categorical_crossentropy', metrics=['accuracy'])\n",
    "\n",
    "# Train.\n",
    "model.fit(X, Y, batch_size=100, epochs=120, validation_data=(Xt, Yt))"
   ]
  },
  {
   "cell_type": "code",
   "execution_count": null,
   "metadata": {},
   "outputs": [
    {
     "name": "stdout",
     "output_type": "stream",
     "text": [
      "1/1 [==============================] - 0s 22ms/step\n"
     ]
    },
    {
     "data": {
      "text/plain": [
       "array([11], dtype=int64)"
      ]
     },
     "execution_count": 35,
     "metadata": {},
     "output_type": "execute_result"
    }
   ],
   "source": [
    "number = 5\n",
    "key = 6\n",
    "input_array = np.array([[number, key]])\n",
    "\n",
    "pred = model.predict(input_array)\n",
    "\n",
    "pred.argmax(axis=1)\n",
    "    \n"
   ]
  },
  {
   "cell_type": "code",
   "execution_count": 27,
   "metadata": {},
   "outputs": [
    {
     "data": {
      "text/plain": [
       "10"
      ]
     },
     "execution_count": 27,
     "metadata": {},
     "output_type": "execute_result"
    }
   ],
   "source": [
    "(5 + 5) % 26 "
   ]
  },
  {
   "cell_type": "code",
   "execution_count": null,
   "metadata": {},
   "outputs": [],
   "source": []
  }
 ],
 "metadata": {
  "kernelspec": {
   "display_name": "ditto_venv",
   "language": "python",
   "name": "python3"
  },
  "language_info": {
   "codemirror_mode": {
    "name": "ipython",
    "version": 3
   },
   "file_extension": ".py",
   "mimetype": "text/x-python",
   "name": "python",
   "nbconvert_exporter": "python",
   "pygments_lexer": "ipython3",
   "version": "3.10.11"
  }
 },
 "nbformat": 4,
 "nbformat_minor": 2
}
