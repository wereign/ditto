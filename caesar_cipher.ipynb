{
 "cells": [
  {
   "cell_type": "code",
   "execution_count": 10,
   "metadata": {},
   "outputs": [
    {
     "name": "stdout",
     "output_type": "stream",
     "text": [
      "(250000, 1)\n",
      "(250000, 1)\n",
      "Epoch 1/120\n",
      "2500/2500 [==============================] - 4s 1ms/step - loss: 2.9150 - accuracy: 0.1090 - val_loss: 2.5584 - val_accuracy: 0.2118\n",
      "Epoch 2/120\n",
      "2500/2500 [==============================] - 3s 1ms/step - loss: 2.1632 - accuracy: 0.3363 - val_loss: 1.8310 - val_accuracy: 0.4368\n",
      "Epoch 3/120\n",
      "2500/2500 [==============================] - 3s 1ms/step - loss: 1.5926 - accuracy: 0.5699 - val_loss: 1.3952 - val_accuracy: 0.6617\n",
      "Epoch 4/120\n",
      "2500/2500 [==============================] - 4s 1ms/step - loss: 1.2533 - accuracy: 0.7314 - val_loss: 1.1151 - val_accuracy: 0.8329\n",
      "Epoch 5/120\n",
      "2500/2500 [==============================] - 4s 2ms/step - loss: 1.0207 - accuracy: 0.8205 - val_loss: 0.9230 - val_accuracy: 0.8440\n",
      "Epoch 6/120\n",
      "2500/2500 [==============================] - 4s 1ms/step - loss: 0.8476 - accuracy: 0.8655 - val_loss: 0.7693 - val_accuracy: 0.8852\n",
      "Epoch 7/120\n",
      "2500/2500 [==============================] - 4s 1ms/step - loss: 0.7147 - accuracy: 0.8876 - val_loss: 0.6525 - val_accuracy: 0.8888\n",
      "Epoch 8/120\n",
      "2500/2500 [==============================] - 4s 2ms/step - loss: 0.6093 - accuracy: 0.9052 - val_loss: 0.5549 - val_accuracy: 0.9323\n",
      "Epoch 9/120\n",
      "2500/2500 [==============================] - 4s 2ms/step - loss: 0.5223 - accuracy: 0.9149 - val_loss: 0.4807 - val_accuracy: 0.9247\n",
      "Epoch 10/120\n",
      "2500/2500 [==============================] - 4s 1ms/step - loss: 0.4519 - accuracy: 0.9220 - val_loss: 0.4247 - val_accuracy: 0.9339\n",
      "Epoch 11/120\n",
      "2500/2500 [==============================] - 4s 2ms/step - loss: 0.3955 - accuracy: 0.9283 - val_loss: 0.3647 - val_accuracy: 0.9403\n",
      "Epoch 12/120\n",
      "2500/2500 [==============================] - 4s 2ms/step - loss: 0.3436 - accuracy: 0.9343 - val_loss: 0.3189 - val_accuracy: 0.9288\n",
      "Epoch 13/120\n",
      "2500/2500 [==============================] - 4s 2ms/step - loss: 0.3079 - accuracy: 0.9398 - val_loss: 0.2780 - val_accuracy: 0.9426\n",
      "Epoch 14/120\n",
      "2500/2500 [==============================] - 4s 1ms/step - loss: 0.2653 - accuracy: 0.9456 - val_loss: 0.2503 - val_accuracy: 0.9321\n",
      "Epoch 15/120\n",
      "2500/2500 [==============================] - 3s 1ms/step - loss: 0.2388 - accuracy: 0.9490 - val_loss: 0.2238 - val_accuracy: 0.9438\n",
      "Epoch 16/120\n",
      "2500/2500 [==============================] - 4s 1ms/step - loss: 0.2069 - accuracy: 0.9534 - val_loss: 0.1937 - val_accuracy: 0.9418\n",
      "Epoch 17/120\n",
      "2500/2500 [==============================] - 3s 1ms/step - loss: 0.1904 - accuracy: 0.9581 - val_loss: 0.1797 - val_accuracy: 0.9517\n",
      "Epoch 18/120\n",
      "2500/2500 [==============================] - 3s 1ms/step - loss: 0.1801 - accuracy: 0.9606 - val_loss: 0.1684 - val_accuracy: 0.9665\n",
      "Epoch 19/120\n",
      "2500/2500 [==============================] - 3s 1ms/step - loss: 0.1583 - accuracy: 0.9657 - val_loss: 0.1473 - val_accuracy: 0.9658\n",
      "Epoch 20/120\n",
      "2500/2500 [==============================] - 3s 1ms/step - loss: 0.1397 - accuracy: 0.9677 - val_loss: 0.1374 - val_accuracy: 0.9609\n",
      "Epoch 21/120\n",
      "2500/2500 [==============================] - 3s 1ms/step - loss: 0.1280 - accuracy: 0.9710 - val_loss: 0.1283 - val_accuracy: 0.9595\n",
      "Epoch 22/120\n",
      "2500/2500 [==============================] - 3s 1ms/step - loss: 0.1149 - accuracy: 0.9734 - val_loss: 0.1069 - val_accuracy: 0.9884\n",
      "Epoch 23/120\n",
      "2500/2500 [==============================] - 3s 1ms/step - loss: 0.1120 - accuracy: 0.9735 - val_loss: 0.0990 - val_accuracy: 0.9847\n",
      "Epoch 24/120\n",
      "2500/2500 [==============================] - 3s 1ms/step - loss: 0.1027 - accuracy: 0.9765 - val_loss: 0.1015 - val_accuracy: 0.9664\n",
      "Epoch 25/120\n",
      "2500/2500 [==============================] - 3s 1ms/step - loss: 0.0936 - accuracy: 0.9797 - val_loss: 0.0982 - val_accuracy: 0.9772\n",
      "Epoch 26/120\n",
      "2500/2500 [==============================] - 3s 1ms/step - loss: 0.0847 - accuracy: 0.9816 - val_loss: 0.0791 - val_accuracy: 0.9876\n",
      "Epoch 27/120\n",
      "2500/2500 [==============================] - 3s 1ms/step - loss: 0.0809 - accuracy: 0.9821 - val_loss: 0.0749 - val_accuracy: 0.9888\n",
      "Epoch 28/120\n",
      "2500/2500 [==============================] - 3s 1ms/step - loss: 0.0728 - accuracy: 0.9837 - val_loss: 0.0673 - val_accuracy: 0.9942\n",
      "Epoch 29/120\n",
      "2500/2500 [==============================] - 3s 1ms/step - loss: 0.0688 - accuracy: 0.9852 - val_loss: 0.0696 - val_accuracy: 0.9750\n",
      "Epoch 30/120\n",
      "2500/2500 [==============================] - 3s 1ms/step - loss: 0.0698 - accuracy: 0.9853 - val_loss: 0.0646 - val_accuracy: 0.9752\n",
      "Epoch 31/120\n",
      "2500/2500 [==============================] - 3s 1ms/step - loss: 0.0654 - accuracy: 0.9854 - val_loss: 0.0620 - val_accuracy: 0.9939\n",
      "Epoch 32/120\n",
      "2500/2500 [==============================] - 3s 1ms/step - loss: 0.0562 - accuracy: 0.9881 - val_loss: 0.0630 - val_accuracy: 0.9871\n",
      "Epoch 33/120\n",
      "2500/2500 [==============================] - 3s 1ms/step - loss: 0.0610 - accuracy: 0.9873 - val_loss: 0.0599 - val_accuracy: 0.9861\n",
      "Epoch 34/120\n",
      "2500/2500 [==============================] - 4s 1ms/step - loss: 0.0518 - accuracy: 0.9905 - val_loss: 0.0505 - val_accuracy: 0.9901\n",
      "Epoch 35/120\n",
      "2500/2500 [==============================] - 3s 1ms/step - loss: 0.0523 - accuracy: 0.9888 - val_loss: 0.0470 - val_accuracy: 0.9941\n",
      "Epoch 36/120\n",
      "2500/2500 [==============================] - 3s 1ms/step - loss: 0.0455 - accuracy: 0.9905 - val_loss: 0.0453 - val_accuracy: 0.9904\n",
      "Epoch 37/120\n",
      "2500/2500 [==============================] - 3s 1ms/step - loss: 0.0508 - accuracy: 0.9900 - val_loss: 0.0444 - val_accuracy: 0.9895\n",
      "Epoch 38/120\n",
      "2500/2500 [==============================] - 3s 1ms/step - loss: 0.0411 - accuracy: 0.9917 - val_loss: 0.0406 - val_accuracy: 0.9967\n",
      "Epoch 39/120\n",
      "2500/2500 [==============================] - 3s 1ms/step - loss: 0.0492 - accuracy: 0.9912 - val_loss: 0.0419 - val_accuracy: 0.9869\n",
      "Epoch 40/120\n",
      "2500/2500 [==============================] - 3s 1ms/step - loss: 0.0391 - accuracy: 0.9932 - val_loss: 0.0378 - val_accuracy: 0.9958\n",
      "Epoch 41/120\n",
      "2500/2500 [==============================] - 3s 1ms/step - loss: 0.0485 - accuracy: 0.9905 - val_loss: 0.0393 - val_accuracy: 0.9971\n",
      "Epoch 42/120\n",
      "2500/2500 [==============================] - 3s 1ms/step - loss: 0.0370 - accuracy: 0.9942 - val_loss: 0.0369 - val_accuracy: 0.9924\n",
      "Epoch 43/120\n",
      "2500/2500 [==============================] - 3s 1ms/step - loss: 0.0361 - accuracy: 0.9945 - val_loss: 0.0328 - val_accuracy: 0.9957\n",
      "Epoch 44/120\n",
      "2500/2500 [==============================] - 3s 1ms/step - loss: 0.0403 - accuracy: 0.9932 - val_loss: 0.0372 - val_accuracy: 0.9856\n",
      "Epoch 45/120\n",
      "2500/2500 [==============================] - 3s 1ms/step - loss: 0.0334 - accuracy: 0.9953 - val_loss: 0.0366 - val_accuracy: 0.9897\n",
      "Epoch 46/120\n",
      "2500/2500 [==============================] - 4s 2ms/step - loss: 0.0366 - accuracy: 0.9945 - val_loss: 0.0332 - val_accuracy: 0.9958\n",
      "Epoch 47/120\n",
      "2500/2500 [==============================] - 3s 1ms/step - loss: 0.0384 - accuracy: 0.9937 - val_loss: 0.0522 - val_accuracy: 0.9961\n",
      "Epoch 48/120\n",
      "2500/2500 [==============================] - 3s 1ms/step - loss: 0.0340 - accuracy: 0.9958 - val_loss: 0.0361 - val_accuracy: 0.9897\n",
      "Epoch 49/120\n",
      "2500/2500 [==============================] - 4s 1ms/step - loss: 0.0342 - accuracy: 0.9947 - val_loss: 0.0303 - val_accuracy: 0.9944\n",
      "Epoch 50/120\n",
      "2500/2500 [==============================] - 4s 1ms/step - loss: 0.0299 - accuracy: 0.9955 - val_loss: 0.1418 - val_accuracy: 0.9658\n",
      "Epoch 51/120\n",
      "2500/2500 [==============================] - 3s 1ms/step - loss: 0.0314 - accuracy: 0.9950 - val_loss: 0.0248 - val_accuracy: 0.9988\n",
      "Epoch 52/120\n",
      "2500/2500 [==============================] - 4s 2ms/step - loss: 0.0247 - accuracy: 0.9963 - val_loss: 0.0249 - val_accuracy: 0.9926\n",
      "Epoch 53/120\n",
      "2500/2500 [==============================] - 4s 1ms/step - loss: 0.0291 - accuracy: 0.9957 - val_loss: 0.0477 - val_accuracy: 0.9785\n",
      "Epoch 54/120\n",
      "2500/2500 [==============================] - 4s 1ms/step - loss: 0.0223 - accuracy: 0.9973 - val_loss: 0.0217 - val_accuracy: 0.9984\n",
      "Epoch 55/120\n",
      "2500/2500 [==============================] - 3s 1ms/step - loss: 0.0266 - accuracy: 0.9960 - val_loss: 0.0213 - val_accuracy: 1.0000\n",
      "Epoch 56/120\n",
      "2500/2500 [==============================] - 3s 1ms/step - loss: 0.0204 - accuracy: 0.9979 - val_loss: 0.0198 - val_accuracy: 1.0000\n",
      "Epoch 57/120\n",
      "2500/2500 [==============================] - 3s 1ms/step - loss: 0.0183 - accuracy: 0.9980 - val_loss: 0.0218 - val_accuracy: 0.9952\n",
      "Epoch 58/120\n",
      "2500/2500 [==============================] - 3s 1ms/step - loss: 0.0233 - accuracy: 0.9969 - val_loss: 0.0186 - val_accuracy: 0.9953\n",
      "Epoch 59/120\n",
      "2500/2500 [==============================] - 3s 1ms/step - loss: 0.0226 - accuracy: 0.9973 - val_loss: 0.0185 - val_accuracy: 0.9988\n",
      "Epoch 60/120\n",
      "2500/2500 [==============================] - 3s 1ms/step - loss: 0.0177 - accuracy: 0.9983 - val_loss: 0.0173 - val_accuracy: 1.0000\n",
      "Epoch 61/120\n",
      "2500/2500 [==============================] - 3s 1ms/step - loss: 0.0238 - accuracy: 0.9969 - val_loss: 0.0172 - val_accuracy: 1.0000\n",
      "Epoch 62/120\n",
      "2500/2500 [==============================] - 3s 1ms/step - loss: 0.0217 - accuracy: 0.9969 - val_loss: 0.0178 - val_accuracy: 1.0000\n",
      "Epoch 63/120\n",
      "2500/2500 [==============================] - 3s 1ms/step - loss: 0.0161 - accuracy: 0.9989 - val_loss: 0.0159 - val_accuracy: 1.0000\n",
      "Epoch 64/120\n",
      "2500/2500 [==============================] - 3s 1ms/step - loss: 0.0164 - accuracy: 0.9984 - val_loss: 0.0155 - val_accuracy: 1.0000\n",
      "Epoch 65/120\n",
      "2500/2500 [==============================] - 3s 1ms/step - loss: 0.0181 - accuracy: 0.9979 - val_loss: 0.0137 - val_accuracy: 1.0000\n",
      "Epoch 66/120\n",
      "2500/2500 [==============================] - 3s 1ms/step - loss: 0.0185 - accuracy: 0.9981 - val_loss: 0.0167 - val_accuracy: 0.9968\n",
      "Epoch 67/120\n",
      "2500/2500 [==============================] - 3s 1ms/step - loss: 0.0139 - accuracy: 0.9991 - val_loss: 0.0135 - val_accuracy: 1.0000\n",
      "Epoch 68/120\n",
      "2500/2500 [==============================] - 3s 1ms/step - loss: 0.0191 - accuracy: 0.9978 - val_loss: 0.0154 - val_accuracy: 0.9968\n",
      "Epoch 69/120\n",
      "2500/2500 [==============================] - 3s 1ms/step - loss: 0.0184 - accuracy: 0.9977 - val_loss: 0.0275 - val_accuracy: 1.0000\n",
      "Epoch 70/120\n",
      "2500/2500 [==============================] - 3s 1ms/step - loss: 0.0168 - accuracy: 0.9995 - val_loss: 0.0171 - val_accuracy: 0.9958\n",
      "Epoch 71/120\n",
      "2500/2500 [==============================] - 3s 1ms/step - loss: 0.0165 - accuracy: 0.9981 - val_loss: 0.0194 - val_accuracy: 1.0000\n",
      "Epoch 72/120\n",
      "2500/2500 [==============================] - 3s 1ms/step - loss: 0.0119 - accuracy: 0.9996 - val_loss: 0.0109 - val_accuracy: 1.0000\n",
      "Epoch 73/120\n",
      "2500/2500 [==============================] - 4s 1ms/step - loss: 0.0141 - accuracy: 0.9984 - val_loss: 0.0273 - val_accuracy: 0.9987\n",
      "Epoch 74/120\n",
      "2500/2500 [==============================] - 4s 1ms/step - loss: 0.0119 - accuracy: 0.9997 - val_loss: 0.0118 - val_accuracy: 1.0000\n",
      "Epoch 75/120\n",
      "2500/2500 [==============================] - 3s 1ms/step - loss: 0.0134 - accuracy: 0.9989 - val_loss: 0.0093 - val_accuracy: 1.0000\n",
      "Epoch 76/120\n",
      "2500/2500 [==============================] - 3s 1ms/step - loss: 0.0094 - accuracy: 0.9997 - val_loss: 0.0108 - val_accuracy: 0.9974\n",
      "Epoch 77/120\n",
      "2500/2500 [==============================] - 3s 1ms/step - loss: 0.0191 - accuracy: 0.9977 - val_loss: 0.0091 - val_accuracy: 1.0000\n",
      "Epoch 78/120\n",
      "2500/2500 [==============================] - 3s 1ms/step - loss: 0.0093 - accuracy: 0.9995 - val_loss: 0.0080 - val_accuracy: 1.0000\n",
      "Epoch 79/120\n",
      "2500/2500 [==============================] - 3s 1ms/step - loss: 0.0138 - accuracy: 0.9985 - val_loss: 0.0140 - val_accuracy: 0.9958\n",
      "Epoch 80/120\n",
      "2500/2500 [==============================] - 3s 1ms/step - loss: 0.0138 - accuracy: 0.9986 - val_loss: 0.0251 - val_accuracy: 1.0000\n",
      "Epoch 81/120\n",
      "2500/2500 [==============================] - 4s 1ms/step - loss: 0.0096 - accuracy: 0.9997 - val_loss: 0.0089 - val_accuracy: 1.0000\n",
      "Epoch 82/120\n",
      "2500/2500 [==============================] - 3s 1ms/step - loss: 0.0189 - accuracy: 0.9977 - val_loss: 0.0098 - val_accuracy: 1.0000\n",
      "Epoch 83/120\n",
      "2500/2500 [==============================] - 3s 1ms/step - loss: 0.0096 - accuracy: 0.9999 - val_loss: 0.0089 - val_accuracy: 1.0000\n",
      "Epoch 84/120\n",
      "2500/2500 [==============================] - 4s 1ms/step - loss: 0.0165 - accuracy: 0.9981 - val_loss: 0.0105 - val_accuracy: 1.0000\n",
      "Epoch 85/120\n",
      "2500/2500 [==============================] - 3s 1ms/step - loss: 0.0170 - accuracy: 0.9984 - val_loss: 0.0134 - val_accuracy: 1.0000\n",
      "Epoch 86/120\n",
      "2500/2500 [==============================] - 3s 1ms/step - loss: 0.0095 - accuracy: 0.9999 - val_loss: 0.0078 - val_accuracy: 1.0000\n",
      "Epoch 87/120\n",
      "2500/2500 [==============================] - 3s 1ms/step - loss: 0.0153 - accuracy: 0.9979 - val_loss: 0.0115 - val_accuracy: 1.0000\n",
      "Epoch 88/120\n",
      "2500/2500 [==============================] - 3s 1ms/step - loss: 0.0081 - accuracy: 0.9999 - val_loss: 0.0087 - val_accuracy: 1.0000\n",
      "Epoch 89/120\n",
      "2500/2500 [==============================] - 3s 1ms/step - loss: 0.0113 - accuracy: 0.9989 - val_loss: 0.0093 - val_accuracy: 1.0000\n",
      "Epoch 90/120\n",
      "2500/2500 [==============================] - 3s 1ms/step - loss: 0.0078 - accuracy: 0.9999 - val_loss: 0.0078 - val_accuracy: 1.0000\n",
      "Epoch 91/120\n",
      "2500/2500 [==============================] - 3s 1ms/step - loss: 0.0201 - accuracy: 0.9977 - val_loss: 0.0128 - val_accuracy: 1.0000\n",
      "Epoch 92/120\n",
      "2500/2500 [==============================] - 3s 1ms/step - loss: 0.0120 - accuracy: 0.9999 - val_loss: 0.0109 - val_accuracy: 1.0000\n",
      "Epoch 93/120\n",
      "2500/2500 [==============================] - 3s 1ms/step - loss: 0.0203 - accuracy: 0.9976 - val_loss: 0.0122 - val_accuracy: 1.0000\n",
      "Epoch 94/120\n",
      "2500/2500 [==============================] - 3s 1ms/step - loss: 0.0115 - accuracy: 0.9998 - val_loss: 0.0163 - val_accuracy: 0.9968\n",
      "Epoch 95/120\n",
      "2500/2500 [==============================] - 3s 1ms/step - loss: 0.0164 - accuracy: 0.9982 - val_loss: 0.0126 - val_accuracy: 1.0000\n",
      "Epoch 96/120\n",
      "2500/2500 [==============================] - 3s 1ms/step - loss: 0.0109 - accuracy: 0.9999 - val_loss: 0.0110 - val_accuracy: 1.0000\n",
      "Epoch 97/120\n",
      "2500/2500 [==============================] - 3s 1ms/step - loss: 0.0119 - accuracy: 0.9994 - val_loss: 0.0102 - val_accuracy: 1.0000\n",
      "Epoch 98/120\n",
      "2500/2500 [==============================] - 3s 1ms/step - loss: 0.0136 - accuracy: 0.9988 - val_loss: 0.0092 - val_accuracy: 1.0000\n",
      "Epoch 99/120\n",
      "2500/2500 [==============================] - 3s 1ms/step - loss: 0.0089 - accuracy: 0.9999 - val_loss: 0.0103 - val_accuracy: 1.0000\n",
      "Epoch 100/120\n",
      "2500/2500 [==============================] - 4s 1ms/step - loss: 0.0137 - accuracy: 0.9989 - val_loss: 0.0094 - val_accuracy: 1.0000\n",
      "Epoch 101/120\n",
      "2500/2500 [==============================] - 3s 1ms/step - loss: 0.0093 - accuracy: 0.9999 - val_loss: 0.0091 - val_accuracy: 1.0000\n",
      "Epoch 102/120\n",
      "2500/2500 [==============================] - 3s 1ms/step - loss: 0.0169 - accuracy: 0.9983 - val_loss: 0.0107 - val_accuracy: 1.0000\n",
      "Epoch 103/120\n",
      "2500/2500 [==============================] - 3s 1ms/step - loss: 0.0099 - accuracy: 0.9999 - val_loss: 0.0095 - val_accuracy: 1.0000\n",
      "Epoch 104/120\n",
      "2500/2500 [==============================] - 3s 1ms/step - loss: 0.0162 - accuracy: 0.9985 - val_loss: 0.0104 - val_accuracy: 1.0000\n",
      "Epoch 105/120\n",
      "2500/2500 [==============================] - 4s 1ms/step - loss: 0.0090 - accuracy: 0.9999 - val_loss: 0.0090 - val_accuracy: 1.0000\n",
      "Epoch 106/120\n",
      "2500/2500 [==============================] - 3s 1ms/step - loss: 0.0139 - accuracy: 0.9986 - val_loss: 0.0087 - val_accuracy: 1.0000\n",
      "Epoch 107/120\n",
      "2500/2500 [==============================] - 3s 1ms/step - loss: 0.0077 - accuracy: 0.9999 - val_loss: 0.0080 - val_accuracy: 1.0000\n",
      "Epoch 108/120\n",
      "2500/2500 [==============================] - 3s 1ms/step - loss: 0.0149 - accuracy: 0.9980 - val_loss: 0.0082 - val_accuracy: 1.0000\n",
      "Epoch 109/120\n",
      "2500/2500 [==============================] - 3s 1ms/step - loss: 0.0071 - accuracy: 1.0000 - val_loss: 0.0085 - val_accuracy: 1.0000\n",
      "Epoch 110/120\n",
      "2500/2500 [==============================] - 3s 1ms/step - loss: 0.0067 - accuracy: 1.0000 - val_loss: 0.0072 - val_accuracy: 1.0000\n",
      "Epoch 111/120\n",
      "2500/2500 [==============================] - 3s 1ms/step - loss: 0.0121 - accuracy: 0.9986 - val_loss: 0.0079 - val_accuracy: 1.0000\n",
      "Epoch 112/120\n",
      "2500/2500 [==============================] - 3s 1ms/step - loss: 0.0067 - accuracy: 1.0000 - val_loss: 0.0069 - val_accuracy: 1.0000\n",
      "Epoch 113/120\n",
      "2500/2500 [==============================] - 3s 1ms/step - loss: 0.0083 - accuracy: 0.9994 - val_loss: 0.0069 - val_accuracy: 1.0000\n",
      "Epoch 114/120\n",
      "2500/2500 [==============================] - 3s 1ms/step - loss: 0.0166 - accuracy: 0.9977 - val_loss: 0.0156 - val_accuracy: 1.0000\n",
      "Epoch 115/120\n",
      "2500/2500 [==============================] - 3s 1ms/step - loss: 0.0103 - accuracy: 1.0000 - val_loss: 0.0086 - val_accuracy: 1.0000\n",
      "Epoch 116/120\n",
      "2500/2500 [==============================] - 3s 1ms/step - loss: 0.0095 - accuracy: 0.9995 - val_loss: 0.0071 - val_accuracy: 1.0000\n",
      "Epoch 117/120\n",
      "2500/2500 [==============================] - 3s 1ms/step - loss: 0.0054 - accuracy: 1.0000 - val_loss: 0.0054 - val_accuracy: 1.0000\n",
      "Epoch 118/120\n",
      "2500/2500 [==============================] - 3s 1ms/step - loss: 0.0116 - accuracy: 0.9983 - val_loss: 0.0062 - val_accuracy: 1.0000\n",
      "Epoch 119/120\n",
      "2500/2500 [==============================] - 3s 1ms/step - loss: 0.0056 - accuracy: 1.0000 - val_loss: 0.0055 - val_accuracy: 1.0000\n",
      "Epoch 120/120\n",
      "2500/2500 [==============================] - 3s 1ms/step - loss: 0.0137 - accuracy: 0.9978 - val_loss: 0.0060 - val_accuracy: 1.0000\n"
     ]
    }
   ],
   "source": [
    "import tensorflow as tf\n",
    "import numpy as np\n",
    "\n",
    "\n",
    "\n",
    "# Data.\n",
    "max_val = 26\n",
    "mod = 26\n",
    "\n",
    "K = np.random.randint(0, 27, size=(250_000,)).reshape(-1, 1)\n",
    "I = np.random.randint(0, max_val, size=(250_000,)).reshape(-1, 1)\n",
    "print(I.shape)\n",
    "print(K.shape)\n",
    "X = np.hstack((I,K))\n",
    "Y = (K + I) % 26\n",
    "\n",
    "# validation Data.\n",
    "Kv = np.random.randint(0, 27, size=(10_000,)).reshape(-1, 1)\n",
    "Iv = np.random.randint(0, max_val, size=(10_000,)).reshape(-1, 1)\n",
    "Xv = np.hstack((Iv,Kv))\n",
    "Yv = (Kv + Iv) % 26\n",
    "\n",
    "# Model.\n",
    "model = tf.keras.models.Sequential([\n",
    "    tf.keras.layers.Dense(1000, 'relu', input_shape=(2,)),\n",
    "    tf.keras.layers.Dense(26, 'softmax'),\n",
    "])\n",
    "\n",
    "model.compile(optimizer='adam',\n",
    "              loss='sparse_categorical_crossentropy', metrics=['accuracy'])\n",
    "\n",
    "# Train.\n",
    "history = model.fit(X, Y, batch_size=100, epochs=120, validation_data=(Xv, Yv))"
   ]
  },
  {
   "cell_type": "code",
   "execution_count": 11,
   "metadata": {},
   "outputs": [
    {
     "name": "stdout",
     "output_type": "stream",
     "text": [
      "1/1 [==============================] - 0s 42ms/step\n"
     ]
    },
    {
     "data": {
      "text/plain": [
       "array([11], dtype=int64)"
      ]
     },
     "execution_count": 11,
     "metadata": {},
     "output_type": "execute_result"
    }
   ],
   "source": [
    "number = 5\n",
    "key = 6\n",
    "input_array = np.array([[number, key]])\n",
    "\n",
    "pred = model.predict(input_array)\n",
    "\n",
    "\n",
    "pred.argmax(axis=1)\n",
    "    \n"
   ]
  },
  {
   "cell_type": "code",
   "execution_count": 12,
   "metadata": {},
   "outputs": [
    {
     "data": {
      "text/plain": [
       "10"
      ]
     },
     "execution_count": 12,
     "metadata": {},
     "output_type": "execute_result"
    }
   ],
   "source": [
    "(5 + 5) % 26 "
   ]
  },
  {
   "cell_type": "code",
   "execution_count": 13,
   "metadata": {},
   "outputs": [
    {
     "name": "stdout",
     "output_type": "stream",
     "text": [
      "313/313 [==============================] - 0s 696us/step\n"
     ]
    }
   ],
   "source": [
    "# Test Data.\n",
    "Kt = np.random.randint(0, 27, size=(10_000,)).reshape(-1, 1)\n",
    "It = np.random.randint(0, max_val, size=(10_000,)).reshape(-1, 1)\n",
    "Xt = np.hstack((It,Kt))\n",
    "Yt = (Kt + It) % 26\n",
    "\n",
    "Y_preds = model.predict(Xt)\n",
    "\n",
    "Y_preds = Y_preds.argmax(axis=1)"
   ]
  },
  {
   "cell_type": "code",
   "execution_count": 14,
   "metadata": {},
   "outputs": [
    {
     "name": "stdout",
     "output_type": "stream",
     "text": [
      "              precision    recall  f1-score   support\n",
      "\n",
      "           0       1.00      1.00      1.00       397\n",
      "           1       1.00      1.00      1.00       376\n",
      "           2       1.00      1.00      1.00       421\n",
      "           3       1.00      1.00      1.00       389\n",
      "           4       1.00      1.00      1.00       412\n",
      "           5       1.00      1.00      1.00       419\n",
      "           6       1.00      1.00      1.00       340\n",
      "           7       1.00      1.00      1.00       365\n",
      "           8       1.00      1.00      1.00       379\n",
      "           9       1.00      1.00      1.00       410\n",
      "          10       1.00      1.00      1.00       385\n",
      "          11       1.00      1.00      1.00       391\n",
      "          12       1.00      1.00      1.00       408\n",
      "          13       1.00      1.00      1.00       370\n",
      "          14       1.00      1.00      1.00       353\n",
      "          15       1.00      1.00      1.00       408\n",
      "          16       1.00      1.00      1.00       370\n",
      "          17       1.00      1.00      1.00       368\n",
      "          18       1.00      1.00      1.00       379\n",
      "          19       1.00      1.00      1.00       355\n",
      "          20       1.00      1.00      1.00       373\n",
      "          21       1.00      1.00      1.00       382\n",
      "          22       1.00      1.00      1.00       426\n",
      "          23       1.00      1.00      1.00       353\n",
      "          24       1.00      1.00      1.00       377\n",
      "          25       1.00      1.00      1.00       394\n",
      "\n",
      "    accuracy                           1.00     10000\n",
      "   macro avg       1.00      1.00      1.00     10000\n",
      "weighted avg       1.00      1.00      1.00     10000\n",
      "\n"
     ]
    }
   ],
   "source": [
    "from sklearn.metrics import classification_report\n",
    "\n",
    "print(classification_report(Yt, Y_preds))"
   ]
  },
  {
   "cell_type": "code",
   "execution_count": 19,
   "metadata": {},
   "outputs": [],
   "source": [
    "import seaborn as sns\n",
    "import matplotlib.pyplot as plt"
   ]
  },
  {
   "cell_type": "code",
   "execution_count": 20,
   "metadata": {},
   "outputs": [],
   "source": [
    "val_loss = history.history['val_loss']\n",
    "val_acc = history.history['val_accuracy']\n",
    "acc = history.history['accuracy']\n",
    "loss = history.history['loss']\n",
    "epochs = list(range(120))"
   ]
  },
  {
   "cell_type": "code",
   "execution_count": 21,
   "metadata": {},
   "outputs": [
    {
     "data": {
      "text/plain": [
       "Text(0.5, 1.0, 'Loss vs Epoch')"
      ]
     },
     "execution_count": 21,
     "metadata": {},
     "output_type": "execute_result"
    },
    {
     "data": {
      "image/png": "[encoded data removed]",
      "text/plain": [
       "<Figure size 432x288 with 1 Axes>"
      ]
     },
     "metadata": {
      "needs_background": "light"
     },
     "output_type": "display_data"
    }
   ],
   "source": [
    "sns.lineplot(x=epochs, y=val_loss, label='Validation')\n",
    "sns.lineplot(x=epochs, y=loss,label='Training')\n",
    "plt.legend()\n",
    "plt.title('Loss vs Epoch')"
   ]
  },
  {
   "cell_type": "code",
   "execution_count": 22,
   "metadata": {},
   "outputs": [
    {
     "data": {
      "text/plain": [
       "Text(0.5, 1.0, 'Accuracy vs Epoch')"
      ]
     },
     "execution_count": 22,
     "metadata": {},
     "output_type": "execute_result"
    },
    {
     "data": {
      "image/png": "[encoded data removed]",
      "text/plain": [
       "<Figure size 432x288 with 1 Axes>"
      ]
     },
     "metadata": {
      "needs_background": "light"
     },
     "output_type": "display_data"
    }
   ],
   "source": [
    "sns.lineplot(x=epochs, y=val_acc, label='Validation')\n",
    "sns.lineplot(x=epochs, y=acc, label='Training')\n",
    "plt.legend()\n",
    "plt.title('Accuracy vs Epoch')"
   ]
  }
 ],
 "metadata": {
  "kernelspec": {
   "display_name": "ditto_venv",
   "language": "python",
   "name": "python3"
  },
  "language_info": {
   "codemirror_mode": {
    "name": "ipython",
    "version": 3
   },
   "file_extension": ".py",
   "mimetype": "text/x-python",
   "name": "python",
   "nbconvert_exporter": "python",
   "pygments_lexer": "ipython3",
   "version": "3.10.11"
  }
 },
 "nbformat": 4,
 "nbformat_minor": 2
}
