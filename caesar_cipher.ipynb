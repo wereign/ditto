{
 "cells": [
  {
   "cell_type": "code",
   "execution_count": 1,
   "metadata": {},
   "outputs": [
    {
     "name": "stdout",
     "output_type": "stream",
     "text": [
      "WARNING:tensorflow:From c:\\Users\\viren\\Desktop\\Indira\\ditto\\ditto_venv\\lib\\site-packages\\keras\\src\\losses.py:2976: The name tf.losses.sparse_softmax_cross_entropy is deprecated. Please use tf.compat.v1.losses.sparse_softmax_cross_entropy instead.\n",
      "\n",
      "(250000, 1)\n",
      "(250000, 1)\n",
      "WARNING:tensorflow:From c:\\Users\\viren\\Desktop\\Indira\\ditto\\ditto_venv\\lib\\site-packages\\keras\\src\\backend.py:873: The name tf.get_default_graph is deprecated. Please use tf.compat.v1.get_default_graph instead.\n",
      "\n",
      "WARNING:tensorflow:From c:\\Users\\viren\\Desktop\\Indira\\ditto\\ditto_venv\\lib\\site-packages\\keras\\src\\optimizers\\__init__.py:309: The name tf.train.Optimizer is deprecated. Please use tf.compat.v1.train.Optimizer instead.\n",
      "\n",
      "Epoch 1/120\n",
      "WARNING:tensorflow:From c:\\Users\\viren\\Desktop\\Indira\\ditto\\ditto_venv\\lib\\site-packages\\keras\\src\\utils\\tf_utils.py:492: The name tf.ragged.RaggedTensorValue is deprecated. Please use tf.compat.v1.ragged.RaggedTensorValue instead.\n",
      "\n",
      "WARNING:tensorflow:From c:\\Users\\viren\\Desktop\\Indira\\ditto\\ditto_venv\\lib\\site-packages\\keras\\src\\engine\\base_layer_utils.py:384: The name tf.executing_eagerly_outside_functions is deprecated. Please use tf.compat.v1.executing_eagerly_outside_functions instead.\n",
      "\n",
      "2500/2500 [==============================] - 5s 2ms/step - loss: 2.9382 - accuracy: 0.1011 - val_loss: 2.5876 - val_accuracy: 0.1826\n",
      "Epoch 2/120\n",
      "2500/2500 [==============================] - 4s 2ms/step - loss: 2.1955 - accuracy: 0.3261 - val_loss: 1.8671 - val_accuracy: 0.3891\n",
      "Epoch 3/120\n",
      "2500/2500 [==============================] - 5s 2ms/step - loss: 1.6365 - accuracy: 0.5444 - val_loss: 1.4356 - val_accuracy: 0.6414\n",
      "Epoch 4/120\n",
      "2500/2500 [==============================] - 4s 2ms/step - loss: 1.2797 - accuracy: 0.7200 - val_loss: 1.1458 - val_accuracy: 0.7629\n",
      "Epoch 5/120\n",
      "2500/2500 [==============================] - 5s 2ms/step - loss: 1.0377 - accuracy: 0.8200 - val_loss: 0.9386 - val_accuracy: 0.8046\n",
      "Epoch 6/120\n",
      "2500/2500 [==============================] - 5s 2ms/step - loss: 0.8670 - accuracy: 0.8629 - val_loss: 0.7949 - val_accuracy: 0.8710\n",
      "Epoch 7/120\n",
      "2500/2500 [==============================] - 4s 2ms/step - loss: 0.7368 - accuracy: 0.8856 - val_loss: 0.6790 - val_accuracy: 0.8934\n",
      "Epoch 8/120\n",
      "2500/2500 [==============================] - 4s 2ms/step - loss: 0.6323 - accuracy: 0.9007 - val_loss: 0.5788 - val_accuracy: 0.9235\n",
      "Epoch 9/120\n",
      "2500/2500 [==============================] - 5s 2ms/step - loss: 0.5470 - accuracy: 0.9121 - val_loss: 0.5068 - val_accuracy: 0.9276\n",
      "Epoch 10/120\n",
      "2500/2500 [==============================] - 5s 2ms/step - loss: 0.4733 - accuracy: 0.9198 - val_loss: 0.4377 - val_accuracy: 0.9457\n",
      "Epoch 11/120\n",
      "2500/2500 [==============================] - 6s 2ms/step - loss: 0.4152 - accuracy: 0.9262 - val_loss: 0.3827 - val_accuracy: 0.9454\n",
      "Epoch 12/120\n",
      "2500/2500 [==============================] - 7s 3ms/step - loss: 0.3659 - accuracy: 0.9333 - val_loss: 0.3376 - val_accuracy: 0.9487\n",
      "Epoch 13/120\n",
      "2500/2500 [==============================] - 5s 2ms/step - loss: 0.3242 - accuracy: 0.9377 - val_loss: 0.2969 - val_accuracy: 0.9434\n",
      "Epoch 14/120\n",
      "2500/2500 [==============================] - 5s 2ms/step - loss: 0.2903 - accuracy: 0.9435 - val_loss: 0.2727 - val_accuracy: 0.9425\n",
      "Epoch 15/120\n",
      "2500/2500 [==============================] - 5s 2ms/step - loss: 0.2569 - accuracy: 0.9488 - val_loss: 0.2408 - val_accuracy: 0.9703\n",
      "Epoch 16/120\n",
      "2500/2500 [==============================] - 5s 2ms/step - loss: 0.2256 - accuracy: 0.9540 - val_loss: 0.2095 - val_accuracy: 0.9450\n",
      "Epoch 17/120\n",
      "2500/2500 [==============================] - 5s 2ms/step - loss: 0.2051 - accuracy: 0.9563 - val_loss: 0.1876 - val_accuracy: 0.9613\n",
      "Epoch 18/120\n",
      "2500/2500 [==============================] - 5s 2ms/step - loss: 0.1798 - accuracy: 0.9621 - val_loss: 0.1774 - val_accuracy: 0.9574\n",
      "Epoch 19/120\n",
      "2500/2500 [==============================] - 6s 2ms/step - loss: 0.1640 - accuracy: 0.9646 - val_loss: 0.1632 - val_accuracy: 0.9668\n",
      "Epoch 20/120\n",
      "2500/2500 [==============================] - 5s 2ms/step - loss: 0.1544 - accuracy: 0.9669 - val_loss: 0.1395 - val_accuracy: 0.9778\n",
      "Epoch 21/120\n",
      "2500/2500 [==============================] - 5s 2ms/step - loss: 0.1370 - accuracy: 0.9698 - val_loss: 0.1489 - val_accuracy: 0.9730\n",
      "Epoch 22/120\n",
      "2500/2500 [==============================] - 5s 2ms/step - loss: 0.1264 - accuracy: 0.9712 - val_loss: 0.1230 - val_accuracy: 0.9527\n",
      "Epoch 23/120\n",
      "2500/2500 [==============================] - 5s 2ms/step - loss: 0.1154 - accuracy: 0.9726 - val_loss: 0.1081 - val_accuracy: 0.9688\n",
      "Epoch 24/120\n",
      "2500/2500 [==============================] - 5s 2ms/step - loss: 0.1098 - accuracy: 0.9744 - val_loss: 0.1024 - val_accuracy: 0.9685\n",
      "Epoch 25/120\n",
      "2500/2500 [==============================] - 5s 2ms/step - loss: 0.1041 - accuracy: 0.9763 - val_loss: 0.0971 - val_accuracy: 0.9687\n",
      "Epoch 26/120\n",
      "2500/2500 [==============================] - 6s 2ms/step - loss: 0.0939 - accuracy: 0.9773 - val_loss: 0.0905 - val_accuracy: 0.9741\n",
      "Epoch 27/120\n",
      "2500/2500 [==============================] - 5s 2ms/step - loss: 0.0868 - accuracy: 0.9785 - val_loss: 0.0840 - val_accuracy: 0.9791\n",
      "Epoch 28/120\n",
      "2500/2500 [==============================] - 4s 2ms/step - loss: 0.0849 - accuracy: 0.9800 - val_loss: 0.0755 - val_accuracy: 0.9839\n",
      "Epoch 29/120\n",
      "2500/2500 [==============================] - 4s 2ms/step - loss: 0.0776 - accuracy: 0.9812 - val_loss: 0.0709 - val_accuracy: 0.9785\n",
      "Epoch 30/120\n",
      "2500/2500 [==============================] - 4s 2ms/step - loss: 0.0759 - accuracy: 0.9813 - val_loss: 0.0671 - val_accuracy: 0.9910\n",
      "Epoch 31/120\n",
      "2500/2500 [==============================] - 5s 2ms/step - loss: 0.0688 - accuracy: 0.9829 - val_loss: 0.0701 - val_accuracy: 0.9814\n",
      "Epoch 32/120\n",
      "2500/2500 [==============================] - 5s 2ms/step - loss: 0.0724 - accuracy: 0.9835 - val_loss: 0.0660 - val_accuracy: 0.9793\n",
      "Epoch 33/120\n",
      "2500/2500 [==============================] - 5s 2ms/step - loss: 0.0626 - accuracy: 0.9857 - val_loss: 0.0598 - val_accuracy: 0.9865\n",
      "Epoch 34/120\n",
      "2500/2500 [==============================] - 4s 2ms/step - loss: 0.0740 - accuracy: 0.9859 - val_loss: 0.0647 - val_accuracy: 0.9870\n",
      "Epoch 35/120\n",
      "2500/2500 [==============================] - 5s 2ms/step - loss: 0.0612 - accuracy: 0.9883 - val_loss: 0.0603 - val_accuracy: 0.9835\n",
      "Epoch 36/120\n",
      "2500/2500 [==============================] - 5s 2ms/step - loss: 0.0591 - accuracy: 0.9882 - val_loss: 0.0516 - val_accuracy: 0.9870\n",
      "Epoch 37/120\n",
      "2500/2500 [==============================] - 5s 2ms/step - loss: 0.0557 - accuracy: 0.9887 - val_loss: 0.0589 - val_accuracy: 0.9790\n",
      "Epoch 38/120\n",
      "2500/2500 [==============================] - 5s 2ms/step - loss: 0.0511 - accuracy: 0.9903 - val_loss: 0.0472 - val_accuracy: 0.9964\n",
      "Epoch 39/120\n",
      "2500/2500 [==============================] - 5s 2ms/step - loss: 0.0461 - accuracy: 0.9910 - val_loss: 0.0420 - val_accuracy: 0.9968\n",
      "Epoch 40/120\n",
      "2500/2500 [==============================] - 4s 2ms/step - loss: 0.0480 - accuracy: 0.9915 - val_loss: 0.0424 - val_accuracy: 0.9952\n",
      "Epoch 41/120\n",
      "2500/2500 [==============================] - 4s 2ms/step - loss: 0.0445 - accuracy: 0.9920 - val_loss: 0.0408 - val_accuracy: 0.9875\n",
      "Epoch 42/120\n",
      "2500/2500 [==============================] - 4s 2ms/step - loss: 0.0411 - accuracy: 0.9926 - val_loss: 0.0381 - val_accuracy: 0.9985\n",
      "Epoch 43/120\n",
      "2500/2500 [==============================] - 5s 2ms/step - loss: 0.0365 - accuracy: 0.9939 - val_loss: 0.0348 - val_accuracy: 0.9870\n",
      "Epoch 44/120\n",
      "2500/2500 [==============================] - 5s 2ms/step - loss: 0.0415 - accuracy: 0.9928 - val_loss: 0.0334 - val_accuracy: 0.9936\n",
      "Epoch 45/120\n",
      "2500/2500 [==============================] - 5s 2ms/step - loss: 0.0325 - accuracy: 0.9947 - val_loss: 0.0314 - val_accuracy: 0.9957\n",
      "Epoch 46/120\n",
      "2500/2500 [==============================] - 4s 2ms/step - loss: 0.0409 - accuracy: 0.9934 - val_loss: 0.0377 - val_accuracy: 0.9945\n",
      "Epoch 47/120\n",
      "2500/2500 [==============================] - 5s 2ms/step - loss: 0.0343 - accuracy: 0.9959 - val_loss: 0.0346 - val_accuracy: 0.9857\n",
      "Epoch 48/120\n",
      "2500/2500 [==============================] - 4s 2ms/step - loss: 0.0333 - accuracy: 0.9954 - val_loss: 0.0260 - val_accuracy: 1.0000\n",
      "Epoch 49/120\n",
      "2500/2500 [==============================] - 4s 2ms/step - loss: 0.0331 - accuracy: 0.9953 - val_loss: 0.0271 - val_accuracy: 1.0000\n",
      "Epoch 50/120\n",
      "2500/2500 [==============================] - 5s 2ms/step - loss: 0.0284 - accuracy: 0.9964 - val_loss: 0.0252 - val_accuracy: 0.9977\n",
      "Epoch 51/120\n",
      "2500/2500 [==============================] - 4s 2ms/step - loss: 0.0241 - accuracy: 0.9972 - val_loss: 0.0240 - val_accuracy: 1.0000\n",
      "Epoch 52/120\n",
      "2500/2500 [==============================] - 4s 2ms/step - loss: 0.0255 - accuracy: 0.9970 - val_loss: 0.0223 - val_accuracy: 1.0000\n",
      "Epoch 53/120\n",
      "2500/2500 [==============================] - 4s 2ms/step - loss: 0.0297 - accuracy: 0.9957 - val_loss: 0.0292 - val_accuracy: 0.9924\n",
      "Epoch 54/120\n",
      "2500/2500 [==============================] - 5s 2ms/step - loss: 0.0248 - accuracy: 0.9968 - val_loss: 0.0244 - val_accuracy: 0.9968\n",
      "Epoch 55/120\n",
      "2500/2500 [==============================] - 5s 2ms/step - loss: 0.0218 - accuracy: 0.9978 - val_loss: 0.0213 - val_accuracy: 1.0000\n",
      "Epoch 56/120\n",
      "2500/2500 [==============================] - 5s 2ms/step - loss: 0.0289 - accuracy: 0.9962 - val_loss: 0.0267 - val_accuracy: 0.9968\n",
      "Epoch 57/120\n",
      "2500/2500 [==============================] - 5s 2ms/step - loss: 0.0268 - accuracy: 0.9974 - val_loss: 0.0263 - val_accuracy: 0.9989\n",
      "Epoch 58/120\n",
      "2500/2500 [==============================] - 5s 2ms/step - loss: 0.0219 - accuracy: 0.9976 - val_loss: 0.0200 - val_accuracy: 0.9969\n",
      "Epoch 59/120\n",
      "2500/2500 [==============================] - 5s 2ms/step - loss: 0.0260 - accuracy: 0.9961 - val_loss: 0.0251 - val_accuracy: 0.9974\n",
      "Epoch 60/120\n",
      "2500/2500 [==============================] - 5s 2ms/step - loss: 0.0190 - accuracy: 0.9981 - val_loss: 0.0200 - val_accuracy: 0.9936\n",
      "Epoch 61/120\n",
      "2500/2500 [==============================] - 5s 2ms/step - loss: 0.0174 - accuracy: 0.9985 - val_loss: 0.0162 - val_accuracy: 1.0000\n",
      "Epoch 62/120\n",
      "2500/2500 [==============================] - 6s 2ms/step - loss: 0.0249 - accuracy: 0.9969 - val_loss: 0.0177 - val_accuracy: 0.9969\n",
      "Epoch 63/120\n",
      "2500/2500 [==============================] - 4s 2ms/step - loss: 0.0159 - accuracy: 0.9986 - val_loss: 0.0160 - val_accuracy: 0.9995\n",
      "Epoch 64/120\n",
      "2500/2500 [==============================] - 5s 2ms/step - loss: 0.0270 - accuracy: 0.9966 - val_loss: 0.0182 - val_accuracy: 1.0000\n",
      "Epoch 65/120\n",
      "2500/2500 [==============================] - 4s 2ms/step - loss: 0.0217 - accuracy: 0.9977 - val_loss: 0.0176 - val_accuracy: 1.0000\n",
      "Epoch 66/120\n",
      "2500/2500 [==============================] - 4s 2ms/step - loss: 0.0191 - accuracy: 0.9983 - val_loss: 0.0167 - val_accuracy: 1.0000\n",
      "Epoch 67/120\n",
      "2500/2500 [==============================] - 4s 2ms/step - loss: 0.0252 - accuracy: 0.9972 - val_loss: 0.0185 - val_accuracy: 1.0000\n",
      "Epoch 68/120\n",
      "2500/2500 [==============================] - 4s 2ms/step - loss: 0.0174 - accuracy: 0.9986 - val_loss: 0.0175 - val_accuracy: 0.9983\n",
      "Epoch 69/120\n",
      "2500/2500 [==============================] - 4s 2ms/step - loss: 0.0259 - accuracy: 0.9966 - val_loss: 0.0178 - val_accuracy: 1.0000\n",
      "Epoch 70/120\n",
      "2500/2500 [==============================] - 4s 2ms/step - loss: 0.0166 - accuracy: 0.9991 - val_loss: 0.0149 - val_accuracy: 1.0000\n",
      "Epoch 71/120\n",
      "2500/2500 [==============================] - 4s 2ms/step - loss: 0.0154 - accuracy: 0.9990 - val_loss: 0.0144 - val_accuracy: 1.0000\n",
      "Epoch 72/120\n",
      "2500/2500 [==============================] - 4s 2ms/step - loss: 0.0203 - accuracy: 0.9975 - val_loss: 0.0133 - val_accuracy: 1.0000\n",
      "Epoch 73/120\n",
      "2500/2500 [==============================] - 4s 2ms/step - loss: 0.0137 - accuracy: 0.9993 - val_loss: 0.0138 - val_accuracy: 1.0000\n",
      "Epoch 74/120\n",
      "2500/2500 [==============================] - 5s 2ms/step - loss: 0.0200 - accuracy: 0.9978 - val_loss: 0.0142 - val_accuracy: 1.0000\n",
      "Epoch 75/120\n",
      "2500/2500 [==============================] - 5s 2ms/step - loss: 0.0137 - accuracy: 0.9993 - val_loss: 0.0186 - val_accuracy: 0.9953\n",
      "Epoch 76/120\n",
      "2500/2500 [==============================] - 5s 2ms/step - loss: 0.0204 - accuracy: 0.9978 - val_loss: 0.0143 - val_accuracy: 1.0000\n",
      "Epoch 77/120\n",
      "2500/2500 [==============================] - 5s 2ms/step - loss: 0.0167 - accuracy: 0.9985 - val_loss: 0.0125 - val_accuracy: 1.0000\n",
      "Epoch 78/120\n",
      "2500/2500 [==============================] - 4s 2ms/step - loss: 0.0218 - accuracy: 0.9968 - val_loss: 0.0149 - val_accuracy: 1.0000\n",
      "Epoch 79/120\n",
      "2500/2500 [==============================] - 5s 2ms/step - loss: 0.0131 - accuracy: 0.9995 - val_loss: 0.0126 - val_accuracy: 1.0000\n",
      "Epoch 80/120\n",
      "2500/2500 [==============================] - 5s 2ms/step - loss: 0.0195 - accuracy: 0.9974 - val_loss: 0.0139 - val_accuracy: 1.0000\n",
      "Epoch 81/120\n",
      "2500/2500 [==============================] - 5s 2ms/step - loss: 0.0120 - accuracy: 0.9996 - val_loss: 0.0110 - val_accuracy: 1.0000\n",
      "Epoch 82/120\n",
      "2500/2500 [==============================] - 4s 2ms/step - loss: 0.0143 - accuracy: 0.9987 - val_loss: 0.0104 - val_accuracy: 1.0000\n",
      "Epoch 83/120\n",
      "2500/2500 [==============================] - 5s 2ms/step - loss: 0.0109 - accuracy: 0.9995 - val_loss: 0.0173 - val_accuracy: 0.9969\n",
      "Epoch 84/120\n",
      "2500/2500 [==============================] - 5s 2ms/step - loss: 0.0171 - accuracy: 0.9980 - val_loss: 0.0120 - val_accuracy: 1.0000\n",
      "Epoch 85/120\n",
      "2500/2500 [==============================] - 5s 2ms/step - loss: 0.0111 - accuracy: 0.9995 - val_loss: 0.0102 - val_accuracy: 1.0000\n",
      "Epoch 86/120\n",
      "2500/2500 [==============================] - 4s 2ms/step - loss: 0.0165 - accuracy: 0.9981 - val_loss: 0.0109 - val_accuracy: 1.0000\n",
      "Epoch 87/120\n",
      "2500/2500 [==============================] - 4s 2ms/step - loss: 0.0108 - accuracy: 0.9996 - val_loss: 0.0124 - val_accuracy: 0.9950\n",
      "Epoch 88/120\n",
      "2500/2500 [==============================] - 4s 2ms/step - loss: 0.0168 - accuracy: 0.9977 - val_loss: 0.0102 - val_accuracy: 1.0000\n",
      "Epoch 89/120\n",
      "2500/2500 [==============================] - 4s 2ms/step - loss: 0.0098 - accuracy: 0.9997 - val_loss: 0.0091 - val_accuracy: 1.0000\n",
      "Epoch 90/120\n",
      "2500/2500 [==============================] - 4s 2ms/step - loss: 0.0094 - accuracy: 0.9997 - val_loss: 0.0095 - val_accuracy: 1.0000\n",
      "Epoch 91/120\n",
      "2500/2500 [==============================] - 4s 2ms/step - loss: 0.0233 - accuracy: 0.9974 - val_loss: 0.0145 - val_accuracy: 1.0000\n",
      "Epoch 92/120\n",
      "2500/2500 [==============================] - 4s 2ms/step - loss: 0.0127 - accuracy: 0.9998 - val_loss: 0.0109 - val_accuracy: 1.0000\n",
      "Epoch 93/120\n",
      "2500/2500 [==============================] - 4s 1ms/step - loss: 0.0164 - accuracy: 0.9982 - val_loss: 0.0103 - val_accuracy: 1.0000\n",
      "Epoch 94/120\n",
      "2500/2500 [==============================] - 4s 1ms/step - loss: 0.0099 - accuracy: 0.9997 - val_loss: 0.0094 - val_accuracy: 1.0000\n",
      "Epoch 95/120\n",
      "2500/2500 [==============================] - 4s 2ms/step - loss: 0.0136 - accuracy: 0.9986 - val_loss: 0.0089 - val_accuracy: 1.0000\n",
      "Epoch 96/120\n",
      "2500/2500 [==============================] - 4s 1ms/step - loss: 0.0174 - accuracy: 0.9975 - val_loss: 0.0088 - val_accuracy: 1.0000\n",
      "Epoch 97/120\n",
      "2500/2500 [==============================] - 4s 1ms/step - loss: 0.0085 - accuracy: 0.9998 - val_loss: 0.0083 - val_accuracy: 1.0000\n",
      "Epoch 98/120\n",
      "2500/2500 [==============================] - 4s 2ms/step - loss: 0.0143 - accuracy: 0.9985 - val_loss: 0.0088 - val_accuracy: 1.0000\n",
      "Epoch 99/120\n",
      "2500/2500 [==============================] - 5s 2ms/step - loss: 0.0080 - accuracy: 0.9998 - val_loss: 0.0078 - val_accuracy: 1.0000\n",
      "Epoch 100/120\n",
      "2500/2500 [==============================] - 5s 2ms/step - loss: 0.0098 - accuracy: 0.9992 - val_loss: 0.0068 - val_accuracy: 1.0000\n",
      "Epoch 101/120\n",
      "2500/2500 [==============================] - 4s 2ms/step - loss: 0.0070 - accuracy: 0.9999 - val_loss: 0.0070 - val_accuracy: 1.0000\n",
      "Epoch 102/120\n",
      "2500/2500 [==============================] - 4s 2ms/step - loss: 0.0148 - accuracy: 0.9980 - val_loss: 0.0076 - val_accuracy: 1.0000\n",
      "Epoch 103/120\n",
      "2500/2500 [==============================] - 4s 2ms/step - loss: 0.0108 - accuracy: 0.9989 - val_loss: 0.0082 - val_accuracy: 1.0000\n",
      "Epoch 104/120\n",
      "2500/2500 [==============================] - 5s 2ms/step - loss: 0.0066 - accuracy: 0.9999 - val_loss: 0.0087 - val_accuracy: 0.9983\n",
      "Epoch 105/120\n",
      "2500/2500 [==============================] - 4s 2ms/step - loss: 0.0180 - accuracy: 0.9966 - val_loss: 0.0078 - val_accuracy: 1.0000\n",
      "Epoch 106/120\n",
      "2500/2500 [==============================] - 5s 2ms/step - loss: 0.0068 - accuracy: 0.9999 - val_loss: 0.0073 - val_accuracy: 1.0000\n",
      "Epoch 107/120\n",
      "2500/2500 [==============================] - 5s 2ms/step - loss: 0.0121 - accuracy: 0.9984 - val_loss: 0.0083 - val_accuracy: 1.0000\n",
      "Epoch 108/120\n",
      "2500/2500 [==============================] - 5s 2ms/step - loss: 0.0063 - accuracy: 0.9999 - val_loss: 0.0058 - val_accuracy: 1.0000\n",
      "Epoch 109/120\n",
      "2500/2500 [==============================] - 5s 2ms/step - loss: 0.0061 - accuracy: 0.9999 - val_loss: 0.0059 - val_accuracy: 1.0000\n",
      "Epoch 110/120\n",
      "2500/2500 [==============================] - 5s 2ms/step - loss: 0.0116 - accuracy: 0.9985 - val_loss: 0.0059 - val_accuracy: 1.0000\n",
      "Epoch 111/120\n",
      "2500/2500 [==============================] - 4s 2ms/step - loss: 0.0072 - accuracy: 0.9996 - val_loss: 0.0056 - val_accuracy: 1.0000\n",
      "Epoch 112/120\n",
      "2500/2500 [==============================] - 5s 2ms/step - loss: 0.0121 - accuracy: 0.9984 - val_loss: 0.0068 - val_accuracy: 1.0000\n",
      "Epoch 113/120\n",
      "2500/2500 [==============================] - 4s 2ms/step - loss: 0.0058 - accuracy: 0.9999 - val_loss: 0.0055 - val_accuracy: 1.0000\n",
      "Epoch 114/120\n",
      "2500/2500 [==============================] - 4s 2ms/step - loss: 0.0077 - accuracy: 0.9994 - val_loss: 0.0055 - val_accuracy: 1.0000\n",
      "Epoch 115/120\n",
      "2500/2500 [==============================] - 4s 2ms/step - loss: 0.0087 - accuracy: 0.9990 - val_loss: 0.0054 - val_accuracy: 1.0000\n",
      "Epoch 116/120\n",
      "2500/2500 [==============================] - 4s 2ms/step - loss: 0.0050 - accuracy: 0.9999 - val_loss: 0.0046 - val_accuracy: 1.0000\n",
      "Epoch 117/120\n",
      "2500/2500 [==============================] - 5s 2ms/step - loss: 0.0103 - accuracy: 0.9986 - val_loss: 0.0049 - val_accuracy: 1.0000\n",
      "Epoch 118/120\n",
      "2500/2500 [==============================] - 6s 2ms/step - loss: 0.0046 - accuracy: 1.0000 - val_loss: 0.0046 - val_accuracy: 1.0000\n",
      "Epoch 119/120\n",
      "2500/2500 [==============================] - 5s 2ms/step - loss: 0.0105 - accuracy: 0.9984 - val_loss: 0.0047 - val_accuracy: 1.0000\n",
      "Epoch 120/120\n",
      "2500/2500 [==============================] - 4s 2ms/step - loss: 0.0044 - accuracy: 1.0000 - val_loss: 0.0049 - val_accuracy: 1.0000\n"
     ]
    }
   ],
   "source": [
    "import tensorflow as tf\n",
    "import numpy as np\n",
    "\n",
    "\n",
    "\n",
    "# Data.\n",
    "max_val = 26\n",
    "mod = 26\n",
    "\n",
    "K = np.random.randint(0, 27, size=(250_000,)).reshape(-1, 1)\n",
    "I = np.random.randint(0, max_val, size=(250_000,)).reshape(-1, 1)\n",
    "print(I.shape)\n",
    "print(K.shape)\n",
    "X = np.hstack((I,K))\n",
    "Y = (K + I) % 26\n",
    "\n",
    "# validation Data.\n",
    "Kv = np.random.randint(0, 27, size=(10_000,)).reshape(-1, 1)\n",
    "Iv = np.random.randint(0, max_val, size=(10_000,)).reshape(-1, 1)\n",
    "Xv = np.hstack((Iv,Kv))\n",
    "Yv = (Kv + Iv) % 26\n",
    "\n",
    "# Model.\n",
    "model = tf.keras.models.Sequential([\n",
    "    tf.keras.layers.Dense(1000, 'relu', input_shape=(2,)),\n",
    "    tf.keras.layers.Dense(26, 'softmax'),\n",
    "])\n",
    "\n",
    "model.compile(optimizer='adam',\n",
    "              loss='sparse_categorical_crossentropy', metrics=['accuracy'])\n",
    "\n",
    "# Train.\n",
    "history = model.fit(X, Y, batch_size=100, epochs=120, validation_data=(Xv, Yv))"
   ]
  },
  {
   "cell_type": "code",
   "execution_count": 2,
   "metadata": {},
   "outputs": [
    {
     "name": "stdout",
     "output_type": "stream",
     "text": [
      "1/1 [==============================] - 0s 84ms/step\n"
     ]
    },
    {
     "data": {
      "text/plain": [
       "array([11], dtype=int64)"
      ]
     },
     "execution_count": 2,
     "metadata": {},
     "output_type": "execute_result"
    }
   ],
   "source": [
    "number = 5\n",
    "key = 6\n",
    "input_array = np.array([[number, key]])\n",
    "\n",
    "pred = model.predict(input_array)\n",
    "\n",
    "\n",
    "pred.argmax(axis=1)\n",
    "    \n"
   ]
  },
  {
   "cell_type": "code",
   "execution_count": 3,
   "metadata": {},
   "outputs": [
    {
     "data": {
      "text/plain": [
       "10"
      ]
     },
     "execution_count": 3,
     "metadata": {},
     "output_type": "execute_result"
    }
   ],
   "source": [
    "(5 + 5) % 26 "
   ]
  },
  {
   "cell_type": "code",
   "execution_count": 4,
   "metadata": {},
   "outputs": [
    {
     "name": "stdout",
     "output_type": "stream",
     "text": [
      "  1/313 [..............................] - ETA: 7s"
     ]
    },
    {
     "name": "stdout",
     "output_type": "stream",
     "text": [
      "313/313 [==============================] - 0s 1ms/step\n"
     ]
    }
   ],
   "source": [
    "# Test Data.\n",
    "Kt = np.random.randint(0, 27, size=(10_000,)).reshape(-1, 1)\n",
    "It = np.random.randint(0, max_val, size=(10_000,)).reshape(-1, 1)\n",
    "Xt = np.hstack((It,Kt))\n",
    "Yt = (Kt + It) % 26\n",
    "\n",
    "Y_preds = model.predict(Xt)\n",
    "\n",
    "Y_preds = Y_preds.argmax(axis=1)"
   ]
  },
  {
   "cell_type": "code",
   "execution_count": 5,
   "metadata": {},
   "outputs": [
    {
     "name": "stdout",
     "output_type": "stream",
     "text": [
      "              precision    recall  f1-score   support\n",
      "\n",
      "           0       1.00      1.00      1.00       365\n",
      "           1       1.00      1.00      1.00       411\n",
      "           2       1.00      1.00      1.00       381\n",
      "           3       1.00      1.00      1.00       385\n",
      "           4       1.00      1.00      1.00       386\n",
      "           5       1.00      1.00      1.00       373\n",
      "           6       1.00      1.00      1.00       350\n",
      "           7       1.00      1.00      1.00       396\n",
      "           8       1.00      1.00      1.00       394\n",
      "           9       1.00      1.00      1.00       379\n",
      "          10       1.00      1.00      1.00       425\n",
      "          11       1.00      1.00      1.00       389\n",
      "          12       1.00      1.00      1.00       398\n",
      "          13       1.00      1.00      1.00       367\n",
      "          14       1.00      1.00      1.00       398\n",
      "          15       1.00      1.00      1.00       365\n",
      "          16       1.00      1.00      1.00       375\n",
      "          17       1.00      1.00      1.00       386\n",
      "          18       1.00      1.00      1.00       414\n",
      "          19       1.00      1.00      1.00       393\n",
      "          20       1.00      1.00      1.00       376\n",
      "          21       1.00      1.00      1.00       378\n",
      "          22       1.00      1.00      1.00       393\n",
      "          23       1.00      1.00      1.00       375\n",
      "          24       1.00      1.00      1.00       379\n",
      "          25       1.00      1.00      1.00       369\n",
      "\n",
      "    accuracy                           1.00     10000\n",
      "   macro avg       1.00      1.00      1.00     10000\n",
      "weighted avg       1.00      1.00      1.00     10000\n",
      "\n"
     ]
    }
   ],
   "source": [
    "from sklearn.metrics import classification_report\n",
    "\n",
    "print(classification_report(Yt, Y_preds))"
   ]
  },
  {
   "cell_type": "code",
   "execution_count": 6,
   "metadata": {},
   "outputs": [],
   "source": [
    "import seaborn as sns\n",
    "import matplotlib.pyplot as plt"
   ]
  },
  {
   "cell_type": "code",
   "execution_count": 7,
   "metadata": {},
   "outputs": [],
   "source": [
    "val_loss = history.history['val_loss']\n",
    "val_acc = history.history['val_accuracy']\n",
    "acc = history.history['accuracy']\n",
    "loss = history.history['loss']\n",
    "epochs = list(range(120))"
   ]
  },
  {
   "cell_type": "code",
   "execution_count": 8,
   "metadata": {},
   "outputs": [
    {
     "data": {
      "text/plain": [
       "Text(0.5, 1.0, 'Loss vs Epoch')"
      ]
     },
     "execution_count": 8,
     "metadata": {},
     "output_type": "execute_result"
    },
    {
     "data": {
      "image/png": "[encoded data removed]",
      "text/plain": [
       "<Figure size 432x288 with 1 Axes>"
      ]
     },
     "metadata": {
      "needs_background": "light"
     },
     "output_type": "display_data"
    }
   ],
   "source": [
    "sns.lineplot(x=epochs, y=val_loss, label='Validation')\n",
    "sns.lineplot(x=epochs, y=loss,label='Training')\n",
    "plt.legend()\n",
    "plt.title('Loss vs Epoch')"
   ]
  },
  {
   "cell_type": "code",
   "execution_count": 9,
   "metadata": {},
   "outputs": [
    {
     "data": {
      "text/plain": [
       "Text(0.5, 1.0, 'Accuracy vs Epoch')"
      ]
     },
     "execution_count": 9,
     "metadata": {},
     "output_type": "execute_result"
    },
    {
     "data": {
      "image/png": "[encoded data removed]",
      "text/plain": [
       "<Figure size 432x288 with 1 Axes>"
      ]
     },
     "metadata": {
      "needs_background": "light"
     },
     "output_type": "display_data"
    }
   ],
   "source": [
    "sns.lineplot(x=epochs, y=val_acc, label='Validation')\n",
    "sns.lineplot(x=epochs, y=acc, label='Training')\n",
    "plt.legend()\n",
    "plt.title('Accuracy vs Epoch')"
   ]
  },
  {
   "cell_type": "code",
   "execution_count": 10,
   "metadata": {},
   "outputs": [],
   "source": [
    "model.save('./caesar_stream.keras')"
   ]
  }
 ],
 "metadata": {
  "kernelspec": {
   "display_name": "ditto_venv",
   "language": "python",
   "name": "python3"
  },
  "language_info": {
   "codemirror_mode": {
    "name": "ipython",
    "version": 3
   },
   "file_extension": ".py",
   "mimetype": "text/x-python",
   "name": "python",
   "nbconvert_exporter": "python",
   "pygments_lexer": "ipython3",
   "version": "3.10.11"
  }
 },
 "nbformat": 4,
 "nbformat_minor": 2
}
